{
  "nbformat": 4,
  "nbformat_minor": 0,
  "metadata": {
    "kernelspec": {
      "display_name": "Python 3",
      "language": "python",
      "name": "python3"
    },
    "language_info": {
      "codemirror_mode": {
        "name": "ipython",
        "version": 3
      },
      "file_extension": ".py",
      "mimetype": "text/x-python",
      "name": "python",
      "nbconvert_exporter": "python",
      "pygments_lexer": "ipython3",
      "version": "3.7.4"
    },
    "colab": {
      "name": "text_analytics_final_project.ipynb",
      "provenance": [],
      "collapsed_sections": []
    }
  },
  "cells": [
    {
      "cell_type": "markdown",
      "metadata": {
        "id": "lYY6YhV7BRln"
      },
      "source": [
        "### **TEXT ANALYTICS PROJECT**"
      ]
    },
    {
      "cell_type": "markdown",
      "metadata": {
        "id": "YCfTrjOroAG0"
      },
      "source": [
        "## Problem Statement\n",
        "A leading mobile phone has launched a new phone to the market. Here we are helping the mobile brand to understand the voice of the customer by analyzing the reviews of their product on Amazon and the topics that customers are talking about by performing topic modeling on specific parts of speech."
      ]
    },
    {
      "cell_type": "markdown",
      "metadata": {
        "id": "_c8vXad5oAG1"
      },
      "source": [
        "## Data\n",
        "Customer reviews data from Amazon"
      ]
    },
    {
      "cell_type": "markdown",
      "metadata": {
        "id": "fhfLop9_oAG1"
      },
      "source": [
        "## Analysis to be done\n",
        "POS tagging, topic Modelling using LDA and interpreting the topics"
      ]
    },
    {
      "cell_type": "markdown",
      "metadata": {
        "id": "aUhhYFJroAG1"
      },
      "source": [
        "## About the dataset\n",
        "\n",
        "#### Source : KAGGLE \n",
        "#### Dataset: 'K8 Reviews v0.2.csv'\n",
        "#### Columns: Sentiment,Review"
      ]
    },
    {
      "cell_type": "markdown",
      "metadata": {
        "id": "_6H5CWcyBrzx"
      },
      "source": [
        "## Objective\r\n",
        "\r\n",
        "Perform specific cleanup, POS tagging, and restricting to relevant POS tags, then, perform topic modeling using LDA. "
      ]
    },
    {
      "cell_type": "markdown",
      "metadata": {
        "id": "QxVK1uexoAG2"
      },
      "source": [
        "### Libraries"
      ]
    },
    {
      "cell_type": "code",
      "metadata": {
        "colab": {
          "base_uri": "https://localhost:8080/"
        },
        "id": "EUfqSrPXoAG2",
        "outputId": "1764a17e-5dae-41df-9e10-dac76da504cc"
      },
      "source": [
        "import pandas as pd\n",
        "import numpy as np\n",
        "import nltk\n",
        "import seaborn as sns\n",
        "from nltk import FreqDist\n",
        "nltk.download('tagsets')"
      ],
      "execution_count": null,
      "outputs": [
        {
          "output_type": "stream",
          "text": [
            "[nltk_data] Downloading package tagsets to /root/nltk_data...\n",
            "[nltk_data]   Unzipping help/tagsets.zip.\n"
          ],
          "name": "stdout"
        },
        {
          "output_type": "execute_result",
          "data": {
            "text/plain": [
              "True"
            ]
          },
          "metadata": {
            "tags": []
          },
          "execution_count": 1
        }
      ]
    },
    {
      "cell_type": "code",
      "metadata": {
        "id": "OPiGqY18oAG5"
      },
      "source": [
        "#pip install wordcloud"
      ],
      "execution_count": null,
      "outputs": []
    },
    {
      "cell_type": "code",
      "metadata": {
        "id": "hvF29HeUoAG5"
      },
      "source": [
        "from wordcloud import WordCloud "
      ],
      "execution_count": null,
      "outputs": []
    },
    {
      "cell_type": "code",
      "metadata": {
        "id": "T8rLMIK9oAG5"
      },
      "source": [
        "import matplotlib.pyplot as plt"
      ],
      "execution_count": null,
      "outputs": []
    },
    {
      "cell_type": "code",
      "metadata": {
        "colab": {
          "base_uri": "https://localhost:8080/"
        },
        "id": "Q_EbvyedE5-G",
        "outputId": "66dea0f7-0a2e-441c-db07-156ebcbf1872"
      },
      "source": [
        "from google.colab import drive\n",
        "drive.mount('/content/drive')"
      ],
      "execution_count": null,
      "outputs": [
        {
          "output_type": "stream",
          "text": [
            "Mounted at /content/drive\n"
          ],
          "name": "stdout"
        }
      ]
    },
    {
      "cell_type": "code",
      "metadata": {
        "colab": {
          "resources": {
            "http://localhost:8080/nbextensions/google.colab/files.js": {
              "data": "Ly8gQ29weXJpZ2h0IDIwMTcgR29vZ2xlIExMQwovLwovLyBMaWNlbnNlZCB1bmRlciB0aGUgQXBhY2hlIExpY2Vuc2UsIFZlcnNpb24gMi4wICh0aGUgIkxpY2Vuc2UiKTsKLy8geW91IG1heSBub3QgdXNlIHRoaXMgZmlsZSBleGNlcHQgaW4gY29tcGxpYW5jZSB3aXRoIHRoZSBMaWNlbnNlLgovLyBZb3UgbWF5IG9idGFpbiBhIGNvcHkgb2YgdGhlIExpY2Vuc2UgYXQKLy8KLy8gICAgICBodHRwOi8vd3d3LmFwYWNoZS5vcmcvbGljZW5zZXMvTElDRU5TRS0yLjAKLy8KLy8gVW5sZXNzIHJlcXVpcmVkIGJ5IGFwcGxpY2FibGUgbGF3IG9yIGFncmVlZCB0byBpbiB3cml0aW5nLCBzb2Z0d2FyZQovLyBkaXN0cmlidXRlZCB1bmRlciB0aGUgTGljZW5zZSBpcyBkaXN0cmlidXRlZCBvbiBhbiAiQVMgSVMiIEJBU0lTLAovLyBXSVRIT1VUIFdBUlJBTlRJRVMgT1IgQ09ORElUSU9OUyBPRiBBTlkgS0lORCwgZWl0aGVyIGV4cHJlc3Mgb3IgaW1wbGllZC4KLy8gU2VlIHRoZSBMaWNlbnNlIGZvciB0aGUgc3BlY2lmaWMgbGFuZ3VhZ2UgZ292ZXJuaW5nIHBlcm1pc3Npb25zIGFuZAovLyBsaW1pdGF0aW9ucyB1bmRlciB0aGUgTGljZW5zZS4KCi8qKgogKiBAZmlsZW92ZXJ2aWV3IEhlbHBlcnMgZm9yIGdvb2dsZS5jb2xhYiBQeXRob24gbW9kdWxlLgogKi8KKGZ1bmN0aW9uKHNjb3BlKSB7CmZ1bmN0aW9uIHNwYW4odGV4dCwgc3R5bGVBdHRyaWJ1dGVzID0ge30pIHsKICBjb25zdCBlbGVtZW50ID0gZG9jdW1lbnQuY3JlYXRlRWxlbWVudCgnc3BhbicpOwogIGVsZW1lbnQudGV4dENvbnRlbnQgPSB0ZXh0OwogIGZvciAoY29uc3Qga2V5IG9mIE9iamVjdC5rZXlzKHN0eWxlQXR0cmlidXRlcykpIHsKICAgIGVsZW1lbnQuc3R5bGVba2V5XSA9IHN0eWxlQXR0cmlidXRlc1trZXldOwogIH0KICByZXR1cm4gZWxlbWVudDsKfQoKLy8gTWF4IG51bWJlciBvZiBieXRlcyB3aGljaCB3aWxsIGJlIHVwbG9hZGVkIGF0IGEgdGltZS4KY29uc3QgTUFYX1BBWUxPQURfU0laRSA9IDEwMCAqIDEwMjQ7CgpmdW5jdGlvbiBfdXBsb2FkRmlsZXMoaW5wdXRJZCwgb3V0cHV0SWQpIHsKICBjb25zdCBzdGVwcyA9IHVwbG9hZEZpbGVzU3RlcChpbnB1dElkLCBvdXRwdXRJZCk7CiAgY29uc3Qgb3V0cHV0RWxlbWVudCA9IGRvY3VtZW50LmdldEVsZW1lbnRCeUlkKG91dHB1dElkKTsKICAvLyBDYWNoZSBzdGVwcyBvbiB0aGUgb3V0cHV0RWxlbWVudCB0byBtYWtlIGl0IGF2YWlsYWJsZSBmb3IgdGhlIG5leHQgY2FsbAogIC8vIHRvIHVwbG9hZEZpbGVzQ29udGludWUgZnJvbSBQeXRob24uCiAgb3V0cHV0RWxlbWVudC5zdGVwcyA9IHN0ZXBzOwoKICByZXR1cm4gX3VwbG9hZEZpbGVzQ29udGludWUob3V0cHV0SWQpOwp9CgovLyBUaGlzIGlzIHJvdWdobHkgYW4gYXN5bmMgZ2VuZXJhdG9yIChub3Qgc3VwcG9ydGVkIGluIHRoZSBicm93c2VyIHlldCksCi8vIHdoZXJlIHRoZXJlIGFyZSBtdWx0aXBsZSBhc3luY2hyb25vdXMgc3RlcHMgYW5kIHRoZSBQeXRob24gc2lkZSBpcyBnb2luZwovLyB0byBwb2xsIGZvciBjb21wbGV0aW9uIG9mIGVhY2ggc3RlcC4KLy8gVGhpcyB1c2VzIGEgUHJvbWlzZSB0byBibG9jayB0aGUgcHl0aG9uIHNpZGUgb24gY29tcGxldGlvbiBvZiBlYWNoIHN0ZXAsCi8vIHRoZW4gcGFzc2VzIHRoZSByZXN1bHQgb2YgdGhlIHByZXZpb3VzIHN0ZXAgYXMgdGhlIGlucHV0IHRvIHRoZSBuZXh0IHN0ZXAuCmZ1bmN0aW9uIF91cGxvYWRGaWxlc0NvbnRpbnVlKG91dHB1dElkKSB7CiAgY29uc3Qgb3V0cHV0RWxlbWVudCA9IGRvY3VtZW50LmdldEVsZW1lbnRCeUlkKG91dHB1dElkKTsKICBjb25zdCBzdGVwcyA9IG91dHB1dEVsZW1lbnQuc3RlcHM7CgogIGNvbnN0IG5leHQgPSBzdGVwcy5uZXh0KG91dHB1dEVsZW1lbnQubGFzdFByb21pc2VWYWx1ZSk7CiAgcmV0dXJuIFByb21pc2UucmVzb2x2ZShuZXh0LnZhbHVlLnByb21pc2UpLnRoZW4oKHZhbHVlKSA9PiB7CiAgICAvLyBDYWNoZSB0aGUgbGFzdCBwcm9taXNlIHZhbHVlIHRvIG1ha2UgaXQgYXZhaWxhYmxlIHRvIHRoZSBuZXh0CiAgICAvLyBzdGVwIG9mIHRoZSBnZW5lcmF0b3IuCiAgICBvdXRwdXRFbGVtZW50Lmxhc3RQcm9taXNlVmFsdWUgPSB2YWx1ZTsKICAgIHJldHVybiBuZXh0LnZhbHVlLnJlc3BvbnNlOwogIH0pOwp9CgovKioKICogR2VuZXJhdG9yIGZ1bmN0aW9uIHdoaWNoIGlzIGNhbGxlZCBiZXR3ZWVuIGVhY2ggYXN5bmMgc3RlcCBvZiB0aGUgdXBsb2FkCiAqIHByb2Nlc3MuCiAqIEBwYXJhbSB7c3RyaW5nfSBpbnB1dElkIEVsZW1lbnQgSUQgb2YgdGhlIGlucHV0IGZpbGUgcGlja2VyIGVsZW1lbnQuCiAqIEBwYXJhbSB7c3RyaW5nfSBvdXRwdXRJZCBFbGVtZW50IElEIG9mIHRoZSBvdXRwdXQgZGlzcGxheS4KICogQHJldHVybiB7IUl0ZXJhYmxlPCFPYmplY3Q+fSBJdGVyYWJsZSBvZiBuZXh0IHN0ZXBzLgogKi8KZnVuY3Rpb24qIHVwbG9hZEZpbGVzU3RlcChpbnB1dElkLCBvdXRwdXRJZCkgewogIGNvbnN0IGlucHV0RWxlbWVudCA9IGRvY3VtZW50LmdldEVsZW1lbnRCeUlkKGlucHV0SWQpOwogIGlucHV0RWxlbWVudC5kaXNhYmxlZCA9IGZhbHNlOwoKICBjb25zdCBvdXRwdXRFbGVtZW50ID0gZG9jdW1lbnQuZ2V0RWxlbWVudEJ5SWQob3V0cHV0SWQpOwogIG91dHB1dEVsZW1lbnQuaW5uZXJIVE1MID0gJyc7CgogIGNvbnN0IHBpY2tlZFByb21pc2UgPSBuZXcgUHJvbWlzZSgocmVzb2x2ZSkgPT4gewogICAgaW5wdXRFbGVtZW50LmFkZEV2ZW50TGlzdGVuZXIoJ2NoYW5nZScsIChlKSA9PiB7CiAgICAgIHJlc29sdmUoZS50YXJnZXQuZmlsZXMpOwogICAgfSk7CiAgfSk7CgogIGNvbnN0IGNhbmNlbCA9IGRvY3VtZW50LmNyZWF0ZUVsZW1lbnQoJ2J1dHRvbicpOwogIGlucHV0RWxlbWVudC5wYXJlbnRFbGVtZW50LmFwcGVuZENoaWxkKGNhbmNlbCk7CiAgY2FuY2VsLnRleHRDb250ZW50ID0gJ0NhbmNlbCB1cGxvYWQnOwogIGNvbnN0IGNhbmNlbFByb21pc2UgPSBuZXcgUHJvbWlzZSgocmVzb2x2ZSkgPT4gewogICAgY2FuY2VsLm9uY2xpY2sgPSAoKSA9PiB7CiAgICAgIHJlc29sdmUobnVsbCk7CiAgICB9OwogIH0pOwoKICAvLyBXYWl0IGZvciB0aGUgdXNlciB0byBwaWNrIHRoZSBmaWxlcy4KICBjb25zdCBmaWxlcyA9IHlpZWxkIHsKICAgIHByb21pc2U6IFByb21pc2UucmFjZShbcGlja2VkUHJvbWlzZSwgY2FuY2VsUHJvbWlzZV0pLAogICAgcmVzcG9uc2U6IHsKICAgICAgYWN0aW9uOiAnc3RhcnRpbmcnLAogICAgfQogIH07CgogIGNhbmNlbC5yZW1vdmUoKTsKCiAgLy8gRGlzYWJsZSB0aGUgaW5wdXQgZWxlbWVudCBzaW5jZSBmdXJ0aGVyIHBpY2tzIGFyZSBub3QgYWxsb3dlZC4KICBpbnB1dEVsZW1lbnQuZGlzYWJsZWQgPSB0cnVlOwoKICBpZiAoIWZpbGVzKSB7CiAgICByZXR1cm4gewogICAgICByZXNwb25zZTogewogICAgICAgIGFjdGlvbjogJ2NvbXBsZXRlJywKICAgICAgfQogICAgfTsKICB9CgogIGZvciAoY29uc3QgZmlsZSBvZiBmaWxlcykgewogICAgY29uc3QgbGkgPSBkb2N1bWVudC5jcmVhdGVFbGVtZW50KCdsaScpOwogICAgbGkuYXBwZW5kKHNwYW4oZmlsZS5uYW1lLCB7Zm9udFdlaWdodDogJ2JvbGQnfSkpOwogICAgbGkuYXBwZW5kKHNwYW4oCiAgICAgICAgYCgke2ZpbGUudHlwZSB8fCAnbi9hJ30pIC0gJHtmaWxlLnNpemV9IGJ5dGVzLCBgICsKICAgICAgICBgbGFzdCBtb2RpZmllZDogJHsKICAgICAgICAgICAgZmlsZS5sYXN0TW9kaWZpZWREYXRlID8gZmlsZS5sYXN0TW9kaWZpZWREYXRlLnRvTG9jYWxlRGF0ZVN0cmluZygpIDoKICAgICAgICAgICAgICAgICAgICAgICAgICAgICAgICAgICAgJ24vYSd9IC0gYCkpOwogICAgY29uc3QgcGVyY2VudCA9IHNwYW4oJzAlIGRvbmUnKTsKICAgIGxpLmFwcGVuZENoaWxkKHBlcmNlbnQpOwoKICAgIG91dHB1dEVsZW1lbnQuYXBwZW5kQ2hpbGQobGkpOwoKICAgIGNvbnN0IGZpbGVEYXRhUHJvbWlzZSA9IG5ldyBQcm9taXNlKChyZXNvbHZlKSA9PiB7CiAgICAgIGNvbnN0IHJlYWRlciA9IG5ldyBGaWxlUmVhZGVyKCk7CiAgICAgIHJlYWRlci5vbmxvYWQgPSAoZSkgPT4gewogICAgICAgIHJlc29sdmUoZS50YXJnZXQucmVzdWx0KTsKICAgICAgfTsKICAgICAgcmVhZGVyLnJlYWRBc0FycmF5QnVmZmVyKGZpbGUpOwogICAgfSk7CiAgICAvLyBXYWl0IGZvciB0aGUgZGF0YSB0byBiZSByZWFkeS4KICAgIGxldCBmaWxlRGF0YSA9IHlpZWxkIHsKICAgICAgcHJvbWlzZTogZmlsZURhdGFQcm9taXNlLAogICAgICByZXNwb25zZTogewogICAgICAgIGFjdGlvbjogJ2NvbnRpbnVlJywKICAgICAgfQogICAgfTsKCiAgICAvLyBVc2UgYSBjaHVua2VkIHNlbmRpbmcgdG8gYXZvaWQgbWVzc2FnZSBzaXplIGxpbWl0cy4gU2VlIGIvNjIxMTU2NjAuCiAgICBsZXQgcG9zaXRpb24gPSAwOwogICAgd2hpbGUgKHBvc2l0aW9uIDwgZmlsZURhdGEuYnl0ZUxlbmd0aCkgewogICAgICBjb25zdCBsZW5ndGggPSBNYXRoLm1pbihmaWxlRGF0YS5ieXRlTGVuZ3RoIC0gcG9zaXRpb24sIE1BWF9QQVlMT0FEX1NJWkUpOwogICAgICBjb25zdCBjaHVuayA9IG5ldyBVaW50OEFycmF5KGZpbGVEYXRhLCBwb3NpdGlvbiwgbGVuZ3RoKTsKICAgICAgcG9zaXRpb24gKz0gbGVuZ3RoOwoKICAgICAgY29uc3QgYmFzZTY0ID0gYnRvYShTdHJpbmcuZnJvbUNoYXJDb2RlLmFwcGx5KG51bGwsIGNodW5rKSk7CiAgICAgIHlpZWxkIHsKICAgICAgICByZXNwb25zZTogewogICAgICAgICAgYWN0aW9uOiAnYXBwZW5kJywKICAgICAgICAgIGZpbGU6IGZpbGUubmFtZSwKICAgICAgICAgIGRhdGE6IGJhc2U2NCwKICAgICAgICB9LAogICAgICB9OwogICAgICBwZXJjZW50LnRleHRDb250ZW50ID0KICAgICAgICAgIGAke01hdGgucm91bmQoKHBvc2l0aW9uIC8gZmlsZURhdGEuYnl0ZUxlbmd0aCkgKiAxMDApfSUgZG9uZWA7CiAgICB9CiAgfQoKICAvLyBBbGwgZG9uZS4KICB5aWVsZCB7CiAgICByZXNwb25zZTogewogICAgICBhY3Rpb246ICdjb21wbGV0ZScsCiAgICB9CiAgfTsKfQoKc2NvcGUuZ29vZ2xlID0gc2NvcGUuZ29vZ2xlIHx8IHt9OwpzY29wZS5nb29nbGUuY29sYWIgPSBzY29wZS5nb29nbGUuY29sYWIgfHwge307CnNjb3BlLmdvb2dsZS5jb2xhYi5fZmlsZXMgPSB7CiAgX3VwbG9hZEZpbGVzLAogIF91cGxvYWRGaWxlc0NvbnRpbnVlLAp9Owp9KShzZWxmKTsK",
              "ok": true,
              "headers": [
                [
                  "content-type",
                  "application/javascript"
                ]
              ],
              "status": 200,
              "status_text": ""
            }
          },
          "base_uri": "https://localhost:8080/",
          "height": 56
        },
        "id": "EtQKc12hoPDL",
        "outputId": "1ec44427-d4c9-4f32-ac68-ce822d9a034f"
      },
      "source": [
        "from google.colab import files\n",
        "\n",
        "uploaded = files.upload()"
      ],
      "execution_count": null,
      "outputs": [
        {
          "output_type": "display_data",
          "data": {
            "text/html": [
              "\n",
              "     <input type=\"file\" id=\"files-fc7562b4-5afb-4aa3-910f-e816e99e03ed\" name=\"files[]\" multiple disabled\n",
              "        style=\"border:none\" />\n",
              "     <output id=\"result-fc7562b4-5afb-4aa3-910f-e816e99e03ed\">\n",
              "      Upload widget is only available when the cell has been executed in the\n",
              "      current browser session. Please rerun this cell to enable.\n",
              "      </output>\n",
              "      <script src=\"/nbextensions/google.colab/files.js\"></script> "
            ],
            "text/plain": [
              "<IPython.core.display.HTML object>"
            ]
          },
          "metadata": {
            "tags": []
          }
        },
        {
          "output_type": "stream",
          "text": [
            "Saving K8 Reviews v0.2.csv to K8 Reviews v0.2.csv\n"
          ],
          "name": "stdout"
        }
      ]
    },
    {
      "cell_type": "markdown",
      "metadata": {
        "id": "c5M-OexDoAG6"
      },
      "source": [
        "### Reading the data"
      ]
    },
    {
      "cell_type": "code",
      "metadata": {
        "colab": {
          "base_uri": "https://localhost:8080/",
          "height": 202
        },
        "id": "kQxlEn5uoAG6",
        "outputId": "72174994-37b1-48b2-dad2-e061caccc024"
      },
      "source": [
        "df = pd.read_csv('/content/drive/MyDrive/Text_Analytics/K8 Reviews v0.2.csv')\n",
        "df.head()"
      ],
      "execution_count": null,
      "outputs": [
        {
          "output_type": "execute_result",
          "data": {
            "text/html": [
              "<div>\n",
              "<style scoped>\n",
              "    .dataframe tbody tr th:only-of-type {\n",
              "        vertical-align: middle;\n",
              "    }\n",
              "\n",
              "    .dataframe tbody tr th {\n",
              "        vertical-align: top;\n",
              "    }\n",
              "\n",
              "    .dataframe thead th {\n",
              "        text-align: right;\n",
              "    }\n",
              "</style>\n",
              "<table border=\"1\" class=\"dataframe\">\n",
              "  <thead>\n",
              "    <tr style=\"text-align: right;\">\n",
              "      <th></th>\n",
              "      <th>sentiment</th>\n",
              "      <th>review</th>\n",
              "    </tr>\n",
              "  </thead>\n",
              "  <tbody>\n",
              "    <tr>\n",
              "      <th>0</th>\n",
              "      <td>1</td>\n",
              "      <td>Good but need updates and improvements</td>\n",
              "    </tr>\n",
              "    <tr>\n",
              "      <th>1</th>\n",
              "      <td>0</td>\n",
              "      <td>Worst mobile i have bought ever, Battery is dr...</td>\n",
              "    </tr>\n",
              "    <tr>\n",
              "      <th>2</th>\n",
              "      <td>1</td>\n",
              "      <td>when I will get my 10% cash back.... its alrea...</td>\n",
              "    </tr>\n",
              "    <tr>\n",
              "      <th>3</th>\n",
              "      <td>1</td>\n",
              "      <td>Good</td>\n",
              "    </tr>\n",
              "    <tr>\n",
              "      <th>4</th>\n",
              "      <td>0</td>\n",
              "      <td>The worst phone everThey have changed the last...</td>\n",
              "    </tr>\n",
              "  </tbody>\n",
              "</table>\n",
              "</div>"
            ],
            "text/plain": [
              "   sentiment                                             review\n",
              "0          1             Good but need updates and improvements\n",
              "1          0  Worst mobile i have bought ever, Battery is dr...\n",
              "2          1  when I will get my 10% cash back.... its alrea...\n",
              "3          1                                               Good\n",
              "4          0  The worst phone everThey have changed the last..."
            ]
          },
          "metadata": {
            "tags": []
          },
          "execution_count": 5
        }
      ]
    },
    {
      "cell_type": "code",
      "metadata": {
        "id": "XdTke5MioAG6"
      },
      "source": [
        "## Checking the overall sentiment of all the reviews"
      ],
      "execution_count": null,
      "outputs": []
    },
    {
      "cell_type": "code",
      "metadata": {
        "colab": {
          "base_uri": "https://localhost:8080/"
        },
        "id": "gst8ZdsaoAG6",
        "outputId": "a90d3e99-d9b3-4f27-c299-bb9db1a55a83"
      },
      "source": [
        "df['sentiment'].value_counts()"
      ],
      "execution_count": null,
      "outputs": [
        {
          "output_type": "execute_result",
          "data": {
            "text/plain": [
              "0    7712\n",
              "1    6963\n",
              "Name: sentiment, dtype: int64"
            ]
          },
          "metadata": {
            "tags": []
          },
          "execution_count": 6
        }
      ]
    },
    {
      "cell_type": "markdown",
      "metadata": {
        "id": "Ra3mkIzqoAG6"
      },
      "source": [
        "### WordCloud"
      ]
    },
    {
      "cell_type": "code",
      "metadata": {
        "colab": {
          "base_uri": "https://localhost:8080/",
          "height": 217
        },
        "id": "XbkAB4QyoAG6",
        "outputId": "dfd829f4-82fb-4137-f4e7-93ad64470aae"
      },
      "source": [
        "# Join the different processed titles together.\n",
        "long_string = ','.join(list(df['review'] .values))\n",
        "# Create a WordCloud object\n",
        "wordcloud = WordCloud(background_color=\"white\", max_words=5000, contour_width=3, contour_color='steelblue')\n",
        "# Generate a word cloud\n",
        "wordcloud.generate(long_string)\n",
        "# Visualize the word cloud\n",
        "wordcloud.to_image()"
      ],
      "execution_count": null,
      "outputs": [
        {
          "output_type": "execute_result",
          "data": {
            "image/png": "[encoded data removed]",
            "text/plain": [
              "<PIL.Image.Image image mode=RGB size=400x200 at 0x7F543FECC2B0>"
            ]
          },
          "metadata": {
            "tags": []
          },
          "execution_count": 7
        }
      ]
    },
    {
      "cell_type": "markdown",
      "metadata": {
        "id": "a5XZqdCPFt7l"
      },
      "source": [
        "### **Preprocessing the data**"
      ]
    },
    {
      "cell_type": "markdown",
      "metadata": {
        "id": "cErxCpEvoAG7"
      },
      "source": [
        "#### Converting everything into lower"
      ]
    },
    {
      "cell_type": "code",
      "metadata": {
        "colab": {
          "base_uri": "https://localhost:8080/"
        },
        "id": "8GpEYZUCoAG7",
        "outputId": "e9851831-92ab-49d9-fa59-fc39aa33342a"
      },
      "source": [
        "reviews = list(df['review'].values)\n",
        "reviews = [review.lower() for review in reviews]\n",
        "print(\"Reviews in lower case:\")\n",
        "print (reviews[0])"
      ],
      "execution_count": null,
      "outputs": [
        {
          "output_type": "stream",
          "text": [
            "Reviews in lower case:\n",
            "good but need updates and improvements\n"
          ],
          "name": "stdout"
        }
      ]
    },
    {
      "cell_type": "markdown",
      "metadata": {
        "id": "Yu-4DT-roAG7"
      },
      "source": [
        "### Tokenizing the reviews"
      ]
    },
    {
      "cell_type": "code",
      "metadata": {
        "colab": {
          "base_uri": "https://localhost:8080/"
        },
        "id": "cOwvZSZcoAG7",
        "outputId": "081419cb-846e-4b7d-d09d-40a53d8e26aa"
      },
      "source": [
        "nltk.download('punkt')"
      ],
      "execution_count": null,
      "outputs": [
        {
          "output_type": "stream",
          "text": [
            "[nltk_data] Downloading package punkt to /root/nltk_data...\n",
            "[nltk_data]   Unzipping tokenizers/punkt.zip.\n"
          ],
          "name": "stdout"
        },
        {
          "output_type": "execute_result",
          "data": {
            "text/plain": [
              "True"
            ]
          },
          "metadata": {
            "tags": []
          },
          "execution_count": 9
        }
      ]
    },
    {
      "cell_type": "code",
      "metadata": {
        "colab": {
          "base_uri": "https://localhost:8080/"
        },
        "id": "W4z8_DdvoAG7",
        "outputId": "4a03a1c5-2f3c-40b8-d2e9-ec45d215ca14"
      },
      "source": [
        "review_tokens = [nltk.word_tokenize(i) for i in reviews]\n",
        "print (\"Preview of the first review\")\n",
        "review_tokens[0]"
      ],
      "execution_count": null,
      "outputs": [
        {
          "output_type": "stream",
          "text": [
            "Preview of the first review\n"
          ],
          "name": "stdout"
        },
        {
          "output_type": "execute_result",
          "data": {
            "text/plain": [
              "['good', 'but', 'need', 'updates', 'and', 'improvements']"
            ]
          },
          "metadata": {
            "tags": []
          },
          "execution_count": 10
        }
      ]
    },
    {
      "cell_type": "markdown",
      "metadata": {
        "id": "JlvRVlj8oAG7"
      },
      "source": [
        "### Part of speech tagging"
      ]
    },
    {
      "cell_type": "code",
      "metadata": {
        "colab": {
          "base_uri": "https://localhost:8080/"
        },
        "id": "zCG7ss33oAG8",
        "outputId": "d2f44854-383c-420b-d317-851bba827ffb"
      },
      "source": [
        "nltk.download('averaged_perceptron_tagger')"
      ],
      "execution_count": null,
      "outputs": [
        {
          "output_type": "stream",
          "text": [
            "[nltk_data] Downloading package averaged_perceptron_tagger to\n",
            "[nltk_data]     /root/nltk_data...\n",
            "[nltk_data]   Unzipping taggers/averaged_perceptron_tagger.zip.\n"
          ],
          "name": "stdout"
        },
        {
          "output_type": "execute_result",
          "data": {
            "text/plain": [
              "True"
            ]
          },
          "metadata": {
            "tags": []
          },
          "execution_count": 11
        }
      ]
    },
    {
      "cell_type": "code",
      "metadata": {
        "colab": {
          "base_uri": "https://localhost:8080/"
        },
        "id": "GYnpITdSoAG8",
        "outputId": "8875a26f-1c31-45f4-bfdb-3241f78aea8d"
      },
      "source": [
        "pos_tagged = [nltk.pos_tag(review) for review in review_tokens]\n",
        "print (\"Words with tag\") \n",
        "pos_tagged[0]"
      ],
      "execution_count": null,
      "outputs": [
        {
          "output_type": "stream",
          "text": [
            "Words with tag\n"
          ],
          "name": "stdout"
        },
        {
          "output_type": "execute_result",
          "data": {
            "text/plain": [
              "[('good', 'JJ'),\n",
              " ('but', 'CC'),\n",
              " ('need', 'VBP'),\n",
              " ('updates', 'NNS'),\n",
              " ('and', 'CC'),\n",
              " ('improvements', 'NNS')]"
            ]
          },
          "metadata": {
            "tags": []
          },
          "execution_count": 12
        }
      ]
    },
    {
      "cell_type": "markdown",
      "metadata": {
        "id": "ARIyLFPVoAG8"
      },
      "source": [
        "### We only take nouns for topic model"
      ]
    },
    {
      "cell_type": "code",
      "metadata": {
        "id": "Dc6G9N_KoAG8"
      },
      "source": [
        "reviews_noun = []\n",
        "for review in pos_tagged:\n",
        "    reviews_noun.append([postag for postag in review if postag[1].startswith('NN')])"
      ],
      "execution_count": null,
      "outputs": []
    },
    {
      "cell_type": "code",
      "metadata": {
        "colab": {
          "base_uri": "https://localhost:8080/"
        },
        "id": "u8n3vg_WoAG8",
        "outputId": "275841b6-ba52-4d2c-aaa5-59859a9830d4"
      },
      "source": [
        "# taking only nouns\n",
        "reviews_noun[0]"
      ],
      "execution_count": null,
      "outputs": [
        {
          "output_type": "execute_result",
          "data": {
            "text/plain": [
              "[('updates', 'NNS'), ('improvements', 'NNS')]"
            ]
          },
          "metadata": {
            "tags": []
          },
          "execution_count": 14
        }
      ]
    },
    {
      "cell_type": "markdown",
      "metadata": {
        "id": "Ak9TSpZgoAG8"
      },
      "source": [
        "### Lemmatization"
      ]
    },
    {
      "cell_type": "code",
      "metadata": {
        "colab": {
          "base_uri": "https://localhost:8080/"
        },
        "id": "REL11k9voAG8",
        "outputId": "ba0736ac-a66b-44b6-8595-cf69ec54f18d"
      },
      "source": [
        "nltk.download('wordnet')"
      ],
      "execution_count": null,
      "outputs": [
        {
          "output_type": "stream",
          "text": [
            "[nltk_data] Downloading package wordnet to /root/nltk_data...\n",
            "[nltk_data]   Unzipping corpora/wordnet.zip.\n"
          ],
          "name": "stdout"
        },
        {
          "output_type": "execute_result",
          "data": {
            "text/plain": [
              "True"
            ]
          },
          "metadata": {
            "tags": []
          },
          "execution_count": 15
        }
      ]
    },
    {
      "cell_type": "code",
      "metadata": {
        "id": "GQBbNOPsoAG9"
      },
      "source": [
        "lem = nltk.WordNetLemmatizer()\n",
        "lem_reviews =[]\n",
        "for  review in reviews_noun:\n",
        "    lem_reviews.append([lem.lemmatize(postag[0]) for postag in review])"
      ],
      "execution_count": null,
      "outputs": []
    },
    {
      "cell_type": "code",
      "metadata": {
        "colab": {
          "base_uri": "https://localhost:8080/"
        },
        "id": "Vx4uvWnDoAG9",
        "outputId": "1ea0db2e-cdd3-442e-f21e-82a6d90c7158"
      },
      "source": [
        "lem_reviews[0]"
      ],
      "execution_count": null,
      "outputs": [
        {
          "output_type": "execute_result",
          "data": {
            "text/plain": [
              "['update', 'improvement']"
            ]
          },
          "metadata": {
            "tags": []
          },
          "execution_count": 17
        }
      ]
    },
    {
      "cell_type": "markdown",
      "metadata": {
        "id": "Zka-PjtXoAG9"
      },
      "source": [
        "### Removing stopword if any"
      ]
    },
    {
      "cell_type": "code",
      "metadata": {
        "colab": {
          "base_uri": "https://localhost:8080/"
        },
        "id": "7nyhEihqoAG9",
        "outputId": "6b24d320-dc45-4780-9078-da571019c88c"
      },
      "source": [
        "nltk.download('stopwords')"
      ],
      "execution_count": null,
      "outputs": [
        {
          "output_type": "stream",
          "text": [
            "[nltk_data] Downloading package stopwords to /root/nltk_data...\n",
            "[nltk_data]   Unzipping corpora/stopwords.zip.\n"
          ],
          "name": "stdout"
        },
        {
          "output_type": "execute_result",
          "data": {
            "text/plain": [
              "True"
            ]
          },
          "metadata": {
            "tags": []
          },
          "execution_count": 18
        }
      ]
    },
    {
      "cell_type": "code",
      "metadata": {
        "id": "T-IAxxW3oAG9"
      },
      "source": [
        "from nltk.corpus import stopwords\n",
        "from string import punctuation\n",
        "clean_reviews = []\n",
        "for review in lem_reviews:\n",
        "    clean_reviews.append([word for word in review if word not in (stopwords.words('english') + list(punctuation))])"
      ],
      "execution_count": null,
      "outputs": []
    },
    {
      "cell_type": "markdown",
      "metadata": {
        "id": "rV2pB-DkoAG9"
      },
      "source": [
        "### Create a topic model using LDA on the cleaned-up data"
      ]
    },
    {
      "cell_type": "code",
      "metadata": {
        "id": "ttWnx_TeoAG9"
      },
      "source": [
        "#pip install gensim"
      ],
      "execution_count": null,
      "outputs": []
    },
    {
      "cell_type": "code",
      "metadata": {
        "id": "bk0vobo-oAG9"
      },
      "source": [
        "# Gensim\n",
        "import gensim\n",
        "import gensim.corpora as corpora\n",
        "from gensim.utils import simple_preprocess\n",
        "from gensim.models import CoherenceModel\n"
      ],
      "execution_count": null,
      "outputs": []
    },
    {
      "cell_type": "code",
      "metadata": {
        "colab": {
          "base_uri": "https://localhost:8080/"
        },
        "id": "6L963hmDoAG9",
        "outputId": "83a8bf85-2f3e-4737-942b-35c2c9519f1b"
      },
      "source": [
        "# Create Dictionary\n",
        "id2word = corpora.Dictionary(clean_reviews)\n",
        "print (\"Preview of the corpora dictionary\")\n",
        "print (id2word)"
      ],
      "execution_count": null,
      "outputs": [
        {
          "output_type": "stream",
          "text": [
            "Preview of the corpora dictionary\n",
            "Dictionary(10139 unique tokens: ['improvement', 'update', 'amazon', 'backup', 'battery']...)\n"
          ],
          "name": "stdout"
        }
      ]
    },
    {
      "cell_type": "code",
      "metadata": {
        "colab": {
          "base_uri": "https://localhost:8080/"
        },
        "id": "QWx82apLoAG-",
        "outputId": "79cc4fc9-fc98-48e5-adf7-81747e3f6dc0"
      },
      "source": [
        "# Create Corpus\n",
        "texts = clean_reviews\n",
        "clean_reviews[11]"
      ],
      "execution_count": null,
      "outputs": [
        {
          "output_type": "execute_result",
          "data": {
            "text/plain": [
              "['phone', 'charger', 'damage', 'month']"
            ]
          },
          "metadata": {
            "tags": []
          },
          "execution_count": 22
        }
      ]
    },
    {
      "cell_type": "code",
      "metadata": {
        "colab": {
          "base_uri": "https://localhost:8080/"
        },
        "id": "7RaAZtaEoAG-",
        "outputId": "edaad29d-eece-476c-ea96-347f430f4197"
      },
      "source": [
        "clean_reviews[1]"
      ],
      "execution_count": null,
      "outputs": [
        {
          "output_type": "execute_result",
          "data": {
            "text/plain": [
              "['mobile',\n",
              " 'battery',\n",
              " 'hell',\n",
              " 'backup',\n",
              " 'hour',\n",
              " 'us',\n",
              " 'idle',\n",
              " 'discharged.this',\n",
              " 'lie',\n",
              " 'amazon',\n",
              " 'lenove',\n",
              " 'battery',\n",
              " 'charger',\n",
              " 'hour']"
            ]
          },
          "metadata": {
            "tags": []
          },
          "execution_count": 23
        }
      ]
    },
    {
      "cell_type": "code",
      "metadata": {
        "colab": {
          "base_uri": "https://localhost:8080/"
        },
        "id": "ihN28FqMoAG-",
        "outputId": "030b3073-5747-4fd3-c85e-82b8c9ed2828"
      },
      "source": [
        "# Term Document Frequency\n",
        "corpus = [id2word.doc2bow(text) for text in texts]\n",
        "print (\"Preview of the document frequency\")\n",
        "print (corpus[1])"
      ],
      "execution_count": null,
      "outputs": [
        {
          "output_type": "stream",
          "text": [
            "Preview of the document frequency\n",
            "[(2, 1), (3, 1), (4, 2), (5, 1), (6, 1), (7, 1), (8, 2), (9, 1), (10, 1), (11, 1), (12, 1), (13, 1)]\n"
          ],
          "name": "stdout"
        }
      ]
    },
    {
      "cell_type": "code",
      "metadata": {
        "colab": {
          "base_uri": "https://localhost:8080/"
        },
        "id": "_LD5VfPioAG-",
        "outputId": "35a942e3-847d-471c-b7a8-3ca19dd67325"
      },
      "source": [
        "print(corpus[2])"
      ],
      "execution_count": null,
      "outputs": [
        {
          "output_type": "stream",
          "text": [
            "[(14, 1), (15, 1)]\n"
          ],
          "name": "stdout"
        }
      ]
    },
    {
      "cell_type": "markdown",
      "metadata": {
        "id": "MocpVic9G8E9"
      },
      "source": [
        "## **Modelling**"
      ]
    },
    {
      "cell_type": "markdown",
      "metadata": {
        "id": "nZS6IybtHBf7"
      },
      "source": [
        "### **LDA**\r\n",
        "LDA’s approach to topic modeling is it considers each document as a collection of topics in a certain proportion. And each topic as a collection of keywords, again, in a certain proportion.\r\n",
        "Once you provide the algorithm with the number of topics, all it does it to rearrange the topics distribution within the documents and keywords distribution within the topics to obtain a good composition of topic-keywords distribution.\r\n",
        "When I say topic, what is it actually and how it is represented?\r\n",
        "A topic is nothing but a collection of dominant keywords that are typical representatives. Just by looking at the keywords, you can identify what the topic is all about."
      ]
    },
    {
      "cell_type": "code",
      "metadata": {
        "id": "0APYvTYKoAG-"
      },
      "source": [
        "lda_model = gensim.models.ldamodel.LdaModel(corpus=corpus,\n",
        "                                       id2word=id2word,\n",
        "                                       num_topics=6, \n",
        "                                       random_state=22,\n",
        "                                       passes=10,\n",
        "                                       per_word_topics=True)"
      ],
      "execution_count": null,
      "outputs": []
    },
    {
      "cell_type": "code",
      "metadata": {
        "id": "Eg0ACcEpoAG-"
      },
      "source": [
        "topics = lda_model.show_topics(formatted=False)"
      ],
      "execution_count": null,
      "outputs": []
    },
    {
      "cell_type": "code",
      "metadata": {
        "colab": {
          "base_uri": "https://localhost:8080/"
        },
        "id": "mv9U--MmoAG-",
        "outputId": "aa681cff-15ea-45e0-c15f-d5ff1491d8e7"
      },
      "source": [
        "topics"
      ],
      "execution_count": null,
      "outputs": [
        {
          "output_type": "execute_result",
          "data": {
            "text/plain": [
              "[(0,\n",
              "  [('battery', 0.11079236),\n",
              "   ('phone', 0.09547533),\n",
              "   ('problem', 0.06348433),\n",
              "   ('issue', 0.04620099),\n",
              "   ('heating', 0.024359467),\n",
              "   ('camera', 0.023360666),\n",
              "   ('time', 0.023260027),\n",
              "   ('network', 0.022912862),\n",
              "   ('performance', 0.021916073),\n",
              "   ('day', 0.021756476)]),\n",
              " (1,\n",
              "  [('camera', 0.13191603),\n",
              "   ('quality', 0.06862494),\n",
              "   ('mobile', 0.06073618),\n",
              "   ('battery', 0.016994162),\n",
              "   ('speaker', 0.015759092),\n",
              "   ('feature', 0.014831479),\n",
              "   ('performance', 0.014808953),\n",
              "   ('sound', 0.014673347),\n",
              "   ('price', 0.01454822),\n",
              "   ('mode', 0.014490854)]),\n",
              " (2,\n",
              "  [('note', 0.05016249),\n",
              "   ('charger', 0.04558717),\n",
              "   ('k8', 0.036652733),\n",
              "   ('hai', 0.023200346),\n",
              "   ('h', 0.01853036),\n",
              "   ('mobile', 0.014843365),\n",
              "   ('lenovo', 0.011953287),\n",
              "   ('ho', 0.010148526),\n",
              "   ('battery', 0.00975266),\n",
              "   ('condition', 0.009326613)]),\n",
              " (3,\n",
              "  [('phone', 0.20041831),\n",
              "   ('feature', 0.032113183),\n",
              "   ('screen', 0.029326092),\n",
              "   ('note', 0.02549223),\n",
              "   ('call', 0.020899883),\n",
              "   ('option', 0.016512785),\n",
              "   ('lenovo', 0.012079002),\n",
              "   ('budget', 0.011248605),\n",
              "   ('cast', 0.008828512),\n",
              "   ('time', 0.008261919)]),\n",
              " (4,\n",
              "  [('money', 0.06738639),\n",
              "   ('waste', 0.031402938),\n",
              "   ('value', 0.025923388),\n",
              "   ('mobile', 0.025299003),\n",
              "   ('system', 0.020204252),\n",
              "   ('glass', 0.019913716),\n",
              "   ('update', 0.016887333),\n",
              "   ('worth', 0.012145655),\n",
              "   ('set', 0.010515842),\n",
              "   ('gorilla', 0.010052914)]),\n",
              " (5,\n",
              "  [('product', 0.11714567),\n",
              "   ('phone', 0.05812561),\n",
              "   ('price', 0.033247966),\n",
              "   ('amazon', 0.029569402),\n",
              "   ('service', 0.026750835),\n",
              "   ('lenovo', 0.026493372),\n",
              "   ('day', 0.016470794),\n",
              "   ('device', 0.015221931),\n",
              "   ('issue', 0.014323155),\n",
              "   ('delivery', 0.013164014)])]"
            ]
          },
          "metadata": {
            "tags": []
          },
          "execution_count": 28
        }
      ]
    },
    {
      "cell_type": "code",
      "metadata": {
        "id": "GIf42R22oAG_",
        "outputId": "d3614ca9-5db6-4aec-c08c-7cb08df3ce7e"
      },
      "source": [
        "0.09446416 + 0.059518974+0.053178284+0.043486353+ 0.043251663+ 0.025694003+ 0.01674236+ 0.014820264+ 0.014253314+0.012682653"
      ],
      "execution_count": null,
      "outputs": [
        {
          "output_type": "execute_result",
          "data": {
            "text/plain": [
              "0.3780920280000001"
            ]
          },
          "metadata": {
            "tags": []
          },
          "execution_count": 18
        }
      ]
    },
    {
      "cell_type": "markdown",
      "metadata": {
        "id": "sNPMh2iCoAG_"
      },
      "source": [
        "### Visualizing LDA"
      ]
    },
    {
      "cell_type": "code",
      "metadata": {
        "colab": {
          "base_uri": "https://localhost:8080/"
        },
        "id": "T0k0XznloAG_",
        "outputId": "84ef31a2-a4f6-4402-8532-e23ff7662276"
      },
      "source": [
        "pip install pyLDAvis"
      ],
      "execution_count": null,
      "outputs": [
        {
          "output_type": "stream",
          "text": [
            "Collecting pyLDAvis\n",
            "\u001b[?25l  Downloading https://files.pythonhosted.org/packages/a5/3a/af82e070a8a96e13217c8f362f9a73e82d61ac8fff3a2561946a97f96266/pyLDAvis-2.1.2.tar.gz (1.6MB)\n",
            "\u001b[K     |████████████████████████████████| 1.6MB 4.4MB/s \n",
            "\u001b[?25hRequirement already satisfied: wheel>=0.23.0 in /usr/local/lib/python3.6/dist-packages (from pyLDAvis) (0.36.1)\n",
            "Requirement already satisfied: numpy>=1.9.2 in /usr/local/lib/python3.6/dist-packages (from pyLDAvis) (1.18.5)\n",
            "Requirement already satisfied: scipy>=0.18.0 in /usr/local/lib/python3.6/dist-packages (from pyLDAvis) (1.4.1)\n",
            "Requirement already satisfied: pandas>=0.17.0 in /usr/local/lib/python3.6/dist-packages (from pyLDAvis) (1.1.5)\n",
            "Requirement already satisfied: joblib>=0.8.4 in /usr/local/lib/python3.6/dist-packages (from pyLDAvis) (0.17.0)\n",
            "Requirement already satisfied: jinja2>=2.7.2 in /usr/local/lib/python3.6/dist-packages (from pyLDAvis) (2.11.2)\n",
            "Requirement already satisfied: numexpr in /usr/local/lib/python3.6/dist-packages (from pyLDAvis) (2.7.1)\n",
            "Requirement already satisfied: pytest in /usr/local/lib/python3.6/dist-packages (from pyLDAvis) (3.6.4)\n",
            "Requirement already satisfied: future in /usr/local/lib/python3.6/dist-packages (from pyLDAvis) (0.16.0)\n",
            "Collecting funcy\n",
            "  Downloading https://files.pythonhosted.org/packages/66/89/479de0afbbfb98d1c4b887936808764627300208bb771fcd823403645a36/funcy-1.15-py2.py3-none-any.whl\n",
            "Requirement already satisfied: python-dateutil>=2.7.3 in /usr/local/lib/python3.6/dist-packages (from pandas>=0.17.0->pyLDAvis) (2.8.1)\n",
            "Requirement already satisfied: pytz>=2017.2 in /usr/local/lib/python3.6/dist-packages (from pandas>=0.17.0->pyLDAvis) (2018.9)\n",
            "Requirement already satisfied: MarkupSafe>=0.23 in /usr/local/lib/python3.6/dist-packages (from jinja2>=2.7.2->pyLDAvis) (1.1.1)\n",
            "Requirement already satisfied: setuptools in /usr/local/lib/python3.6/dist-packages (from pytest->pyLDAvis) (50.3.2)\n",
            "Requirement already satisfied: six>=1.10.0 in /usr/local/lib/python3.6/dist-packages (from pytest->pyLDAvis) (1.15.0)\n",
            "Requirement already satisfied: more-itertools>=4.0.0 in /usr/local/lib/python3.6/dist-packages (from pytest->pyLDAvis) (8.6.0)\n",
            "Requirement already satisfied: pluggy<0.8,>=0.5 in /usr/local/lib/python3.6/dist-packages (from pytest->pyLDAvis) (0.7.1)\n",
            "Requirement already satisfied: attrs>=17.4.0 in /usr/local/lib/python3.6/dist-packages (from pytest->pyLDAvis) (20.3.0)\n",
            "Requirement already satisfied: py>=1.5.0 in /usr/local/lib/python3.6/dist-packages (from pytest->pyLDAvis) (1.9.0)\n",
            "Requirement already satisfied: atomicwrites>=1.0 in /usr/local/lib/python3.6/dist-packages (from pytest->pyLDAvis) (1.4.0)\n",
            "Building wheels for collected packages: pyLDAvis\n",
            "  Building wheel for pyLDAvis (setup.py) ... \u001b[?25l\u001b[?25hdone\n",
            "  Created wheel for pyLDAvis: filename=pyLDAvis-2.1.2-py2.py3-none-any.whl size=97711 sha256=7469a87b2ad5539e66e6dcef8876fae2e93ee1affcb252ea2aac96c91ebbe21a\n",
            "  Stored in directory: /root/.cache/pip/wheels/98/71/24/513a99e58bb6b8465bae4d2d5e9dba8f0bef8179e3051ac414\n",
            "Successfully built pyLDAvis\n",
            "Installing collected packages: funcy, pyLDAvis\n",
            "Successfully installed funcy-1.15 pyLDAvis-2.1.2\n"
          ],
          "name": "stdout"
        }
      ]
    },
    {
      "cell_type": "code",
      "metadata": {
        "id": "ezhtpC5RoAG_"
      },
      "source": [
        "import pyLDAvis\n",
        "import pyLDAvis.gensim"
      ],
      "execution_count": null,
      "outputs": []
    },
    {
      "cell_type": "code",
      "metadata": {
        "colab": {
          "base_uri": "https://localhost:8080/",
          "height": 881
        },
        "id": "0nmYacozoAG_",
        "outputId": "799148a0-4591-4be3-fea6-35a04088b1fe"
      },
      "source": [
        "# Visualize the topics\n",
        "pyLDAvis.enable_notebook()\n",
        "vis = pyLDAvis.gensim.prepare(lda_model, corpus, id2word)\n",
        "vis"
      ],
      "execution_count": null,
      "outputs": [
        {
          "output_type": "execute_result",
          "data": {
            "text/html": [
              "\n",
              "<link rel=\"stylesheet\" type=\"text/css\" href=\"https://cdn.rawgit.com/bmabey/pyLDAvis/files/ldavis.v1.0.0.css\">\n",
              "\n",
              "\n",
              "<div id=\"ldavis_el581399995423013447366715206\"></div>\n",
              "<script type=\"text/javascript\">\n",
              "\n",
              "var ldavis_el581399995423013447366715206_data = {\"mdsDat\": {\"x\": [-0.1900972337248398, -0.03410494580788501, -0.10896756973248513, -0.10875463559924384, 0.18212815486691747, 0.2597962299975363], \"y\": [-0.04777393626277052, -0.27506243543102554, 0.19770667822330198, 0.06216596451812571, 0.08389507420640097, -0.020931345254032514], \"topics\": [1, 2, 3, 4, 5, 6], \"cluster\": [1, 1, 1, 1, 1, 1], \"Freq\": [24.84949395992897, 20.23322545483146, 19.58198686284587, 17.13900083580415, 9.281430857392966, 8.914862029196586]}, \"tinfo\": {\"Term\": [\"phone\", \"product\", \"camera\", \"battery\", \"quality\", \"problem\", \"mobile\", \"money\", \"note\", \"issue\", \"charger\", \"price\", \"amazon\", \"feature\", \"service\", \"k8\", \"heating\", \"screen\", \"network\", \"waste\", \"call\", \"backup\", \"value\", \"performance\", \"lenovo\", \"hour\", \"hai\", \"day\", \"update\", \"speaker\", \"problem\", \"heating\", \"sim\", \"charging\", \"jio\", \"drain\", \"min\", \"connectivity\", \"connection\", \"fast\", \"resolution\", \"weight\", \"suggestion\", \"hanging\", \"draining\", \"network\", \"mah\", \"net\", \"standby\", \"percent\", \"fone\", \"drawback\", \"i.e\", \".but\", \"caller\", \"blur\", \"comparison\", \"zoom\", \"idea\", \"percentage\", \"heat\", \"game\", \"battery\", \"hour\", \"volta\", \"backup\", \"life\", \"usage\", \"issue\", \"hang\", \"charge\", \"capacity\", \"performance\", \"time\", \"day\", \"phone\", \"use\", \"lot\", \"hr\", \"update\", \"month\", \"camera\", \"data\", \"call\", \"work\", \"quality\", \"photo\", \"depth\", \"picture\", \"clarity\", \"front\", \"image\", \"effect\", \"flash\", \"mp\", \"super\", \"atmos\", \"awesome\", \"selfie\", \"color\", \"rear\", \"player\", \"wise\", \"improvement\", \"configuration\", \"brightness\", \"lover\", \"build\", \"concern\", \"hd\", \"default\", \"focus\", \"size\", \"bokeh\", \"rom\", \"lenova\", \"camera\", \"sound\", \"speaker\", \"mobile\", \"mode\", \"stock\", \"dolby\", \"android\", \"pic\", \"display\", \"video\", \"ram\", \"touch\", \"music\", \"processor\", \"mark\", \"everything\", \"speed\", \"feature\", \"performance\", \"price\", \"range\", \"battery\", \"phone\", \"product\", \"service\", \"handset\", \"amazon\", \"superb\", \"return\", \"delivery\", \"replacement\", \"center\", \"thanks\", \"gb\", \"policy\", \"refund\", \"centre\", \"warranty\", \"year\", \"gaming\", \"bill\", \"team\", \"sale\", \"offer\", \"market\", \"choice\", \"segment\", \"defect\", \"space\", \"hope\", \"motorola\", \"ye\", \"half\", \"customer\", \"date\", \"week\", \"price\", \"experience\", \"hi\", \"device\", \"lenovo\", \"purchase\", \"range\", \"phone\", \"day\", \"month\", \"care\", \"time\", \"issue\", \"note\", \"k8\", \"support\", \"please\", \"budget\", \"cast\", \"contact\", \"message\", \"excellent\", \"class\", \"recording\", \"recorder\", \"cable\", \"auto\", \"tv\", \"jack\", \"head\", \"whatsapp\", \"processing\", \"hotspot\", \"seller\", \"accessory\", \"version\", \"top\", \"functionality\", \"mind\", \"switch\", \"fall\", \"home\", \"batter\", \"start\", \"job\", \"office\", \"second\", \"model\", \"setting\", \"screen\", \"function\", \"notification\", \"earphone\", \"option\", \"button\", \"call\", \"feature\", \"phone\", \"headphone\", \"box\", \"apps\", \"note\", \"app\", \"today\", \"lenovo\", \"smartphone\", \"side\", \"time\", \"software\", \"k8\", \"music\", \"card\", \"day\", \"..\", \"hai\", \"h\", \"ho\", \"bhi\", \"k5\", \"phn\", \"ko\", \"sir\", \"ki\", \"invoice\", \"raha\", \"tha\", \"par\", \"bahut\", \"nahi\", \"rha\", \"hota\", \"ke\", \".it\", \"processer\", \"bed\", \"din\", \".and\", \"kar\", \"atom\", \"gold\", \"mera\", \"..it\", \"kiya\", \"category\", \"charger\", \"condition\", \"bekar\", \"k8\", \"print\", \"note\", \"finger\", \"turbo\", \"k4\", \"pls\", \"hr\", \"charge\", \"lenovo\", \"mobile\", \"power\", \"battery\", \"hour\", \"fingerprint\", \"waste\", \"money\", \"value\", \"system\", \"worth\", \"set\", \"ok\", \"cell\", \"headset\", \"gud\", \"nice\", \"medium\", \"future\", \"ringtone\", \"yesterday\", \"file\", \"it..\", \"site\", \"pc\", \"information\", \"tray\", \"nd\", \"pin\", \"ph\", \"iron\", \"comment\", \"camara\", \"performance..\", \"thik\", \"crack\", \"glass\", \"gorilla\", \"phone..\", \"item\", \"plz\", \"expectation\", \"update\", \"piece\", \"mobile\", \"killer\", \"software\", \"lte\", \"review\", \"box\", \"month\"], \"Freq\": [6264.0, 1997.0, 2829.0, 2774.0, 1209.0, 1373.0, 1386.0, 524.0, 1000.0, 1286.0, 387.0, 823.0, 506.0, 744.0, 456.0, 519.0, 527.0, 493.0, 505.0, 244.0, 441.0, 529.0, 201.0, 782.0, 798.0, 418.0, 188.0, 828.0, 362.0, 318.0, 1373.1341730496342, 526.8829974067314, 253.97186680983478, 199.00716583263392, 133.66794261123056, 199.4600239607577, 107.07486077149305, 76.73005249287782, 62.72683856056701, 61.228011308571425, 51.847602397291816, 43.62360230062014, 41.36977396996504, 38.56660260307795, 37.08623736231076, 495.59366538181797, 108.44856332873125, 29.67140566365828, 29.690124511376755, 30.400315176531034, 27.170946316392826, 27.05348391025628, 28.404725864636156, 25.144680151961737, 24.79678253611896, 24.00610384738101, 23.824230878339087, 25.9223634179024, 23.61369797860956, 23.357571565880516, 302.57437540698277, 172.42354161894303, 2396.3829971195873, 379.01769765673464, 113.85707649701583, 464.6907765902983, 262.1582025906371, 172.83067277981263, 999.3041696118273, 107.09387674377848, 208.43572403178987, 36.86861627905588, 474.0336219059007, 503.1026780141823, 470.58161861494136, 2065.0833437643055, 170.99778686638115, 167.8748465153251, 123.89910124276138, 192.29082111280326, 209.06941519297118, 505.2794428077882, 111.87548729183533, 129.15288805180398, 109.59168714998934, 1208.5816136283063, 159.51987612074146, 151.60573059259383, 149.9622767906837, 137.5832229251058, 116.46785377917264, 112.04522953540923, 102.36473898277626, 96.38047360553182, 87.86085200379549, 87.6708606155139, 81.73457079062615, 64.37246852169126, 57.90236661710693, 52.487788371487994, 48.77718283181614, 46.77936601839623, 42.130260263238235, 39.91636484238348, 37.23189486050264, 52.1727858152835, 33.20272140199602, 32.83002516872669, 33.02149682832458, 31.512567295317492, 30.931800681429777, 29.04327381646821, 28.029415079511036, 26.746343785765347, 21.24222142693368, 22.382059043810028, 2323.22653807769, 258.4182379291379, 277.5397349181782, 1069.649400180422, 255.20428596869624, 118.23301786698457, 116.43853538606578, 121.86390608072769, 59.26579491081277, 210.96826799971012, 146.33581708946582, 133.85834363348917, 75.41306598363616, 145.44680140097458, 165.34499387934767, 104.4950831339883, 130.6830017415083, 130.47264739655975, 261.203165437274, 260.80645272450437, 256.21457729278586, 144.8130648567156, 299.2910466636838, 185.2654437336346, 1996.6956271607592, 455.95602016904854, 194.8280981439005, 503.99724645540476, 174.8061239378628, 171.81735567072502, 224.37472841902215, 175.6755099112462, 130.52791914775207, 97.31789245615691, 96.35201651346276, 89.43215308140097, 95.54544386714403, 76.64163260233343, 62.83599113536417, 61.0756266113571, 55.597211567999665, 54.12160634924441, 53.304013194380154, 69.45033210023313, 45.67170186273454, 39.636471358983016, 39.07463972185089, 36.5225248775667, 34.9190111204856, 34.865210243873534, 34.50500986283833, 34.08673453687865, 32.89869236456622, 30.11128549591606, 172.9086598428358, 58.217405931224626, 103.53474506797274, 566.6967253568987, 185.40501965376194, 52.29455921627425, 259.45101096682475, 451.5676909700656, 101.13071855529995, 172.35415007760375, 990.725066319888, 280.73731569448165, 174.8683816757318, 71.78559254445906, 212.12419301621418, 244.1317818225877, 213.19041630463474, 144.29651472085297, 81.50589538030371, 82.76690824072593, 167.8081468595949, 131.70488796380397, 99.37597573948601, 82.79891472534969, 81.0157974351847, 66.3122037298196, 57.81460594726597, 53.8894582451991, 54.07534406504186, 53.0987288593093, 52.74350448583322, 40.43289764302044, 36.76226662415327, 36.26087820589136, 33.720945784091185, 32.57192501463653, 29.74301980535502, 29.55945074171748, 77.36577755772954, 30.059883975636907, 28.6335714548601, 27.731339058925034, 25.716671190551285, 25.126494045908398, 22.859671404709093, 21.329019756455658, 20.147003446413965, 19.980978514099668, 19.837280581616252, 19.119072264405506, 117.84372516773917, 35.57181864141564, 437.4904342742273, 90.4713721719008, 89.5679692409715, 87.90546915617787, 246.3398606331351, 86.8816852109146, 311.7871466775335, 479.0686153108751, 2989.8662057536385, 95.1872596800503, 95.93333159288073, 112.29830694900933, 380.29638554379164, 114.45917706954262, 45.53842047475873, 180.19611668735374, 67.35564710555, 58.06328732248249, 123.25237488221562, 85.11587238763782, 79.08904820709085, 67.42564301416729, 61.807373753985544, 73.9203824802179, 61.99107480673223, 187.42963556926088, 149.7020131941733, 81.98733538801058, 43.68333215804278, 40.313091891322884, 33.07411807924927, 30.976096733269713, 30.02940567207175, 29.068073070748643, 28.619700357142403, 27.553839874743446, 27.137345992334655, 26.819298786065357, 26.669136474751053, 25.26688924134742, 22.88357041354858, 22.794047101534687, 22.30409911025809, 22.490235143937937, 19.26641968336422, 19.059066207159752, 18.304233117599075, 17.939974020554526, 17.71034787263605, 17.34488683004423, 17.468497242539605, 17.170845490994992, 17.28629433583839, 17.142057108207823, 17.088494351706842, 368.2870404099527, 75.347306654268, 21.78234376498403, 296.1080095508839, 34.66376348320633, 405.24987179293305, 35.24109235147594, 74.01200722355375, 39.30953319361368, 35.646176215590906, 55.04295902587101, 65.2551097347805, 96.56753302772857, 119.9157334559242, 36.663037196414834, 78.78923479062428, 38.83973236784073, 27.980795762056662, 243.6765690426315, 522.8964239668187, 201.1570462401827, 156.7784105785085, 94.24632780360982, 81.5995054236604, 77.412783322499, 57.63070639956158, 46.05308674174214, 44.73435484471204, 42.47255247728952, 36.227504656937874, 35.89943144342028, 34.032506456877876, 28.967460232840573, 27.50069900195388, 25.858352802187525, 25.20825697977419, 23.39152725994081, 23.17168019412761, 21.648765233097183, 19.83613308605638, 19.293560608959286, 18.54636423551558, 17.725874064431167, 17.449674532580413, 16.724521583141204, 16.45260390645729, 16.234025136984652, 15.643138157410041, 154.52395059901764, 78.00733607596962, 66.64030058462143, 51.62827535838505, 42.607103904165236, 65.49784381202952, 131.04020446427467, 51.28420209872503, 196.31202413757308, 38.19976689396451, 57.6544824392222, 25.82689652357575, 33.18501711127308, 31.60403332875848, 31.21654892312846], \"Total\": [6264.0, 1997.0, 2829.0, 2774.0, 1209.0, 1373.0, 1386.0, 524.0, 1000.0, 1286.0, 387.0, 823.0, 506.0, 744.0, 456.0, 519.0, 527.0, 493.0, 505.0, 244.0, 441.0, 529.0, 201.0, 782.0, 798.0, 418.0, 188.0, 828.0, 362.0, 318.0, 1373.8891811733176, 527.6351110621238, 254.7257102782187, 199.76544345564, 134.42496582652228, 200.63479407244805, 108.00622234145587, 77.48253627199564, 63.478551656517986, 61.981206426674106, 52.60247555266715, 44.37809147329597, 42.1311710397582, 39.31784122460686, 37.838479246782754, 505.6549247974351, 110.72967212288029, 30.424114210975784, 30.44331970195438, 31.228613075201917, 27.926866506377447, 27.807899466665145, 29.22152781294957, 25.900935920115977, 25.556603097157737, 24.769618162046907, 24.585288238772495, 26.75564427749369, 24.373363483387454, 24.114297349424213, 321.224779566689, 182.70002720405242, 2774.99387055161, 418.49256068655257, 122.7783902629236, 529.114459394166, 304.55464593395897, 196.6118101261023, 1286.2720185793778, 124.31792194043393, 274.29909071139787, 39.03946356523127, 782.9813698923676, 862.7132966595271, 828.5541871051402, 6264.264204286071, 269.8317812004958, 264.23569066362865, 179.55035779400197, 362.23486535668405, 449.1085984562487, 2829.1408014333074, 165.13425450510726, 441.5419849085119, 187.03813028234717, 1209.5283428080495, 160.27961965960333, 152.36348453667688, 150.721319838269, 138.3411108087005, 117.22560290763401, 112.80381065050312, 103.12318439797265, 97.13907907023335, 88.61773895026366, 88.4265196046761, 82.49238760881322, 65.12862453539272, 58.65943596698319, 53.24918473362102, 49.53392767893502, 47.537295523473446, 42.902329732397554, 40.67532283776593, 37.99093011704907, 53.27898867155241, 33.959613956434985, 33.58812961809846, 33.79555107593008, 32.26990746884353, 31.70013706313749, 29.80607224055827, 28.786970816278842, 27.50340802324967, 22.000065724629994, 23.190903765467194, 2829.1408014333074, 288.9040334391716, 318.50444854331073, 1386.3458050474078, 323.20154538896037, 139.45338603648094, 138.75463054914363, 149.26466092096499, 66.11556823706758, 310.33577412384227, 205.54002390322114, 186.30599348670174, 89.8864756934947, 213.47922824223258, 277.0577900060524, 147.59931571560176, 216.09820906330984, 227.66362542638998, 744.2813405434581, 782.9813698923676, 823.5161212208415, 317.77421540356465, 2774.99387055161, 6264.264204286071, 1997.4494262810756, 456.7093846709611, 195.58420087782284, 506.05734657957, 175.56082194716063, 172.58900531411382, 225.48666699093448, 176.694541020117, 131.29652290379806, 98.07234076653559, 97.11147588214143, 90.18609640421998, 96.38561341981264, 77.39423925154226, 63.59229623016557, 61.831829374401195, 56.35818019184678, 54.87477426452412, 54.05758631136052, 70.56180798579084, 46.42823625307289, 40.392006038277124, 39.83179399936053, 37.27744196279965, 35.67237390975403, 35.62456887198401, 35.261223827431486, 34.84431214378265, 33.68263317461819, 30.87077185208717, 192.10965458266554, 61.45200474704255, 116.53682978534759, 823.5161212208415, 234.79617055914366, 56.28857237247386, 395.02422670851917, 798.7366989029284, 130.19047597854248, 317.77421540356465, 6264.264204286071, 828.5541871051402, 449.1085984562487, 93.73124597935795, 862.7132966595271, 1286.2720185793778, 1000.7810940228144, 519.9510317865728, 147.64016767539965, 168.5762079426902, 168.5650522364711, 132.45881862757625, 100.13114551949612, 83.55475758616402, 81.77064125818649, 67.06946112678675, 58.57001677956058, 54.64369248300079, 54.832284515096255, 53.855489339747294, 53.49783539942934, 41.18796312994432, 37.51683771460626, 37.01813671039471, 34.481213146235234, 33.328009261119945, 30.49894959746533, 30.317035673729706, 79.38744661459067, 30.850401312204635, 29.38792146831987, 28.492704973148147, 26.47421858379205, 25.88667763030515, 23.616247520634648, 22.083435859272075, 20.905730316353715, 20.742742062023893, 20.601178992218472, 19.87702661346588, 123.21164371353237, 37.03976453722445, 493.1621316054218, 100.36966254798197, 101.19027357033362, 100.91644743920536, 315.2773077482672, 103.63662363599148, 441.5419849085119, 744.2813405434581, 6264.264204286071, 117.59597880035199, 128.14228264686002, 162.5491120107127, 1000.7810940228144, 192.60619466410998, 54.35076906241648, 798.7366989029284, 121.42462421911526, 93.79818360893057, 862.7132966595271, 297.55359049512555, 519.9510317865728, 213.47922824223258, 134.96769395964694, 828.5541871051402, 231.69577332617493, 188.18974801224448, 150.4619579140168, 82.74743995817909, 44.443317487263755, 41.07635041256494, 33.83693039911771, 31.736141514452317, 30.81804938323443, 29.8385022546843, 29.380443914309918, 28.3140490160818, 27.89740174823831, 27.582541331508065, 27.42891299229215, 26.027255524635102, 23.64334476577867, 23.553936122313512, 23.063816031050496, 23.258726214139713, 20.030007169355073, 19.828591329079803, 19.064381784302586, 18.70936799347202, 18.470266245647505, 18.10672475496429, 18.237729340911677, 17.93049218370992, 18.052156680644668, 17.902479121169435, 17.853605089646322, 387.0923751502372, 80.12999873425316, 23.058947698052734, 519.9510317865728, 42.883812884785655, 1000.7810940228144, 44.52170884331866, 180.12752250042428, 65.87530696711863, 67.11037623146716, 179.55035779400197, 274.29909071139787, 798.7366989029284, 1386.3458050474078, 123.02185350286081, 2774.99387055161, 418.49256068655257, 65.67689431884476, 244.43291388160924, 524.8113971792638, 201.9127698370277, 157.53645205403066, 95.00531263311896, 82.35749961636327, 78.16929922996432, 58.390178601043154, 46.831313071210936, 45.491088465086406, 43.231534637222424, 36.98838934427754, 36.65723950936459, 34.78787047991888, 29.731030406052803, 28.267350295583476, 26.620764030965322, 25.98447269548247, 24.150869766427927, 23.93113694818258, 22.40969556271262, 20.59636803340549, 20.053140202059776, 19.3036499309166, 18.48293183504718, 18.207708587559218, 17.481080552726276, 17.20747717412755, 17.015678533227373, 16.400640604641655, 167.40811105418325, 87.34210668762309, 82.75795704417023, 67.91838767882172, 56.30642363964367, 116.47783129093207, 362.23486535668405, 105.98288548661947, 1386.3458050474078, 93.73590630835022, 297.55359049512555, 37.28804951366682, 167.83029172342808, 128.14228264686002, 449.1085984562487], \"Category\": [\"Default\", \"Default\", \"Default\", \"Default\", \"Default\", \"Default\", \"Default\", \"Default\", \"Default\", \"Default\", \"Default\", \"Default\", \"Default\", \"Default\", \"Default\", \"Default\", \"Default\", \"Default\", \"Default\", \"Default\", \"Default\", \"Default\", \"Default\", \"Default\", \"Default\", \"Default\", \"Default\", \"Default\", \"Default\", \"Default\", \"Topic1\", \"Topic1\", \"Topic1\", \"Topic1\", \"Topic1\", \"Topic1\", \"Topic1\", \"Topic1\", \"Topic1\", \"Topic1\", \"Topic1\", \"Topic1\", \"Topic1\", \"Topic1\", \"Topic1\", \"Topic1\", \"Topic1\", \"Topic1\", \"Topic1\", \"Topic1\", \"Topic1\", \"Topic1\", \"Topic1\", \"Topic1\", \"Topic1\", \"Topic1\", \"Topic1\", \"Topic1\", \"Topic1\", \"Topic1\", \"Topic1\", \"Topic1\", \"Topic1\", \"Topic1\", \"Topic1\", \"Topic1\", \"Topic1\", \"Topic1\", \"Topic1\", \"Topic1\", \"Topic1\", \"Topic1\", \"Topic1\", \"Topic1\", \"Topic1\", \"Topic1\", \"Topic1\", \"Topic1\", \"Topic1\", \"Topic1\", \"Topic1\", \"Topic1\", \"Topic1\", \"Topic1\", \"Topic1\", \"Topic2\", \"Topic2\", \"Topic2\", \"Topic2\", \"Topic2\", \"Topic2\", \"Topic2\", \"Topic2\", \"Topic2\", \"Topic2\", \"Topic2\", \"Topic2\", \"Topic2\", \"Topic2\", \"Topic2\", \"Topic2\", \"Topic2\", \"Topic2\", \"Topic2\", \"Topic2\", \"Topic2\", \"Topic2\", \"Topic2\", \"Topic2\", \"Topic2\", \"Topic2\", \"Topic2\", \"Topic2\", \"Topic2\", \"Topic2\", \"Topic2\", \"Topic2\", \"Topic2\", \"Topic2\", \"Topic2\", \"Topic2\", \"Topic2\", \"Topic2\", \"Topic2\", \"Topic2\", \"Topic2\", \"Topic2\", \"Topic2\", \"Topic2\", \"Topic2\", \"Topic2\", \"Topic2\", \"Topic2\", \"Topic2\", \"Topic2\", \"Topic2\", \"Topic2\", \"Topic2\", \"Topic2\", \"Topic2\", \"Topic3\", \"Topic3\", \"Topic3\", \"Topic3\", \"Topic3\", \"Topic3\", \"Topic3\", \"Topic3\", \"Topic3\", \"Topic3\", \"Topic3\", \"Topic3\", \"Topic3\", \"Topic3\", \"Topic3\", \"Topic3\", \"Topic3\", \"Topic3\", \"Topic3\", \"Topic3\", \"Topic3\", \"Topic3\", \"Topic3\", \"Topic3\", \"Topic3\", \"Topic3\", \"Topic3\", \"Topic3\", \"Topic3\", \"Topic3\", \"Topic3\", \"Topic3\", \"Topic3\", \"Topic3\", \"Topic3\", \"Topic3\", \"Topic3\", \"Topic3\", \"Topic3\", \"Topic3\", \"Topic3\", \"Topic3\", \"Topic3\", \"Topic3\", \"Topic3\", \"Topic3\", \"Topic3\", \"Topic3\", \"Topic3\", \"Topic3\", \"Topic4\", \"Topic4\", \"Topic4\", \"Topic4\", \"Topic4\", \"Topic4\", \"Topic4\", \"Topic4\", \"Topic4\", \"Topic4\", \"Topic4\", \"Topic4\", \"Topic4\", \"Topic4\", \"Topic4\", \"Topic4\", \"Topic4\", \"Topic4\", \"Topic4\", \"Topic4\", \"Topic4\", \"Topic4\", \"Topic4\", \"Topic4\", \"Topic4\", \"Topic4\", \"Topic4\", \"Topic4\", \"Topic4\", \"Topic4\", \"Topic4\", \"Topic4\", \"Topic4\", \"Topic4\", \"Topic4\", \"Topic4\", \"Topic4\", \"Topic4\", \"Topic4\", \"Topic4\", \"Topic4\", \"Topic4\", \"Topic4\", \"Topic4\", \"Topic4\", \"Topic4\", \"Topic4\", \"Topic4\", \"Topic4\", \"Topic4\", \"Topic4\", \"Topic4\", \"Topic4\", \"Topic4\", \"Topic4\", \"Topic4\", \"Topic4\", \"Topic5\", \"Topic5\", \"Topic5\", \"Topic5\", \"Topic5\", \"Topic5\", \"Topic5\", \"Topic5\", \"Topic5\", \"Topic5\", \"Topic5\", \"Topic5\", \"Topic5\", \"Topic5\", \"Topic5\", \"Topic5\", \"Topic5\", \"Topic5\", \"Topic5\", \"Topic5\", \"Topic5\", \"Topic5\", \"Topic5\", \"Topic5\", \"Topic5\", \"Topic5\", \"Topic5\", \"Topic5\", \"Topic5\", \"Topic5\", \"Topic5\", \"Topic5\", \"Topic5\", \"Topic5\", \"Topic5\", \"Topic5\", \"Topic5\", \"Topic5\", \"Topic5\", \"Topic5\", \"Topic5\", \"Topic5\", \"Topic5\", \"Topic5\", \"Topic5\", \"Topic5\", \"Topic5\", \"Topic5\", \"Topic6\", \"Topic6\", \"Topic6\", \"Topic6\", \"Topic6\", \"Topic6\", \"Topic6\", \"Topic6\", \"Topic6\", \"Topic6\", \"Topic6\", \"Topic6\", \"Topic6\", \"Topic6\", \"Topic6\", \"Topic6\", \"Topic6\", \"Topic6\", \"Topic6\", \"Topic6\", \"Topic6\", \"Topic6\", \"Topic6\", \"Topic6\", \"Topic6\", \"Topic6\", \"Topic6\", \"Topic6\", \"Topic6\", \"Topic6\", \"Topic6\", \"Topic6\", \"Topic6\", \"Topic6\", \"Topic6\", \"Topic6\", \"Topic6\", \"Topic6\", \"Topic6\", \"Topic6\", \"Topic6\", \"Topic6\", \"Topic6\", \"Topic6\", \"Topic6\"], \"logprob\": [30.0, 29.0, 28.0, 27.0, 26.0, 25.0, 24.0, 23.0, 22.0, 21.0, 20.0, 19.0, 18.0, 17.0, 16.0, 15.0, 14.0, 13.0, 12.0, 11.0, 10.0, 9.0, 8.0, 7.0, 6.0, 5.0, 4.0, 3.0, 2.0, 1.0, -2.756999969482422, -3.7147998809814453, -4.4446001052856445, -4.688499927520752, -5.08650016784668, -4.686200141906738, -5.308300018310547, -5.641499996185303, -5.8429999351501465, -5.867199897766113, -6.0335001945495605, -6.206200122833252, -6.259300231933594, -6.329400062561035, -6.368599891662598, -3.776099920272827, -5.295499801635742, -6.591599941253662, -6.591000080108643, -6.567399978637695, -6.679699897766113, -6.684000015258789, -6.635300159454346, -6.757199764251709, -6.771100044250488, -6.803500175476074, -6.811100006103516, -6.7266998291015625, -6.820000171661377, -6.830900192260742, -4.269499778747559, -4.831900119781494, -2.2000999450683594, -4.0441999435424805, -5.2469000816345215, -3.840399980545044, -4.412899971008301, -4.829500198364258, -3.0748000144958496, -5.30810022354126, -4.642199993133545, -6.374499797821045, -3.820499897003174, -3.760999917984009, -3.8278000354766846, -2.348900079727173, -4.840199947357178, -4.85860013961792, -5.162300109863281, -4.722799777984619, -4.639100074768066, -3.756700038909912, -5.264400005340576, -5.120800018310547, -5.285099983215332, -2.6791000366210938, -4.704100131988525, -4.755000114440918, -4.765900135040283, -4.852099895477295, -5.018700122833252, -5.057400226593018, -5.147799968719482, -5.208000183105469, -5.30049991607666, -5.302700042724609, -5.372799873352051, -5.611599922180176, -5.71750020980835, -5.815700054168701, -5.888999938964844, -5.9309000968933105, -6.0355000495910645, -6.0894999504089355, -6.15910005569458, -5.821700096130371, -6.27370023727417, -6.284999847412109, -6.279099941253662, -6.325900077819824, -6.3445000648498535, -6.40749979019165, -6.442999839782715, -6.4899001121521, -6.720300197601318, -6.668000221252441, -2.025599956512451, -4.221700191497803, -4.150300025939941, -2.8011999130249023, -4.2342000007629395, -5.003600120544434, -5.018899917602539, -4.973400115966797, -5.694300174713135, -4.424600124359131, -4.79040002822876, -4.879499912261963, -5.4532999992370605, -4.796500205993652, -4.668300151824951, -5.127200126647949, -4.903500080108643, -4.905099868774414, -4.210999965667725, -4.212500095367432, -4.230299949645996, -4.800899982452393, -4.074900150299072, -4.554500102996826, -2.1442999839782715, -3.6212000846862793, -4.471499919891357, -3.5209999084472656, -4.579899787902832, -4.5971999168396, -4.3302998542785645, -4.574900150299072, -4.872000217437744, -5.165599822998047, -5.175600051879883, -5.250100135803223, -5.184000015258789, -5.404399871826172, -5.603099822998047, -5.631499767303467, -5.725500106811523, -5.752399921417236, -5.767600059509277, -5.502999782562256, -5.922100067138672, -6.063799858093262, -6.078100204467773, -6.145699977874756, -6.1905999183654785, -6.1921000480651855, -6.202499866485596, -6.214700222015381, -6.250199794769287, -6.338699817657471, -4.590799808502197, -5.6793999671936035, -5.103700160980225, -3.4038000106811523, -4.520999908447266, -5.7866997718811035, -4.184999942779541, -3.6308999061584473, -5.127200126647949, -4.593999862670898, -2.845099925994873, -4.106200218200684, -4.579599857330322, -5.469900131225586, -4.38640022277832, -4.2459001541137695, -4.381400108337402, -4.771699905395508, -5.342899799346924, -5.327600002288818, -4.487500190734863, -4.729800224304199, -5.01140022277832, -5.193900108337402, -5.215700149536133, -5.415999889373779, -5.553100109100342, -5.6234002113342285, -5.619999885559082, -5.638199806213379, -5.644899845123291, -5.910699844360352, -6.005899906158447, -6.019599914550781, -6.092199802398682, -6.1269001960754395, -6.217700004577637, -6.223899841308594, -5.2617998123168945, -6.207099914550781, -6.255799770355225, -6.287799835205078, -6.3632001876831055, -6.38640022277832, -6.480999946594238, -6.550300121307373, -6.6072998046875, -6.615600109100342, -6.622799873352051, -6.659599781036377, -4.841000080108643, -6.03879976272583, -3.5292999744415283, -5.105299949645996, -5.115300178527832, -5.134099960327148, -4.103600025177002, -5.1458001136779785, -3.868000030517578, -3.438499927520752, -1.607300043106079, -5.054500102996826, -5.0467000007629395, -4.889200210571289, -3.6693999767303467, -4.870100021362305, -5.791800022125244, -4.416299819946289, -5.400300025939941, -5.548799991607666, -4.79610013961792, -5.166299819946289, -5.239799976348877, -5.3993000984191895, -5.486299991607666, -5.307300090789795, -5.48330020904541, -3.7636001110076904, -3.988300085067749, -4.590400218963623, -5.21999979019165, -5.300300121307373, -5.498199939727783, -5.563799858093262, -5.594799995422363, -5.627399921417236, -5.642899990081787, -5.680799961090088, -5.696100234985352, -5.707900047302246, -5.713500022888184, -5.767499923706055, -5.866600036621094, -5.870500087738037, -5.892199993133545, -5.883900165557861, -6.038599967956543, -6.0493998527526855, -6.089900016784668, -6.110000133514404, -6.122799873352051, -6.143700122833252, -6.136600017547607, -6.153800010681152, -6.14709997177124, -6.1554999351501465, -6.158599853515625, -3.088099956512451, -4.674900054931641, -5.915900230407715, -3.306299924850464, -5.451300144195557, -2.992500066757202, -5.434800148010254, -4.692800045013428, -5.325500011444092, -5.423399925231934, -4.988900184631348, -4.818699836730957, -4.426700115203857, -4.21019983291626, -5.395199775695801, -4.630199909210205, -5.337500095367432, -5.665500164031982, -3.460900068283081, -2.6972999572753906, -3.652600049972534, -3.901900053024292, -4.410799980163574, -4.554900169372559, -4.607500076293945, -4.902599811553955, -5.1269001960754395, -5.156000137329102, -5.207799911499023, -5.3668999671936035, -5.375999927520752, -5.4293999671936035, -5.5904998779296875, -5.642499923706055, -5.704100131988525, -5.729499816894531, -5.804299831390381, -5.813799858093262, -5.881700038909912, -5.969200134277344, -5.9969000816345215, -6.036399841308594, -6.081699848175049, -6.097400188446045, -6.139800071716309, -6.156199932098389, -6.169600009918213, -6.206699848175049, -3.916300058364868, -4.599899768829346, -4.757400035858154, -5.012599945068359, -5.204699993133545, -4.774700164794922, -4.081200122833252, -5.0192999839782715, -3.677000045776367, -5.313899993896484, -4.902200222015381, -5.7052998542785645, -5.454599857330322, -5.503399848937988, -5.515699863433838], \"loglift\": [30.0, 29.0, 28.0, 27.0, 26.0, 25.0, 24.0, 23.0, 22.0, 21.0, 20.0, 19.0, 18.0, 17.0, 16.0, 15.0, 14.0, 13.0, 12.0, 11.0, 10.0, 9.0, 8.0, 7.0, 6.0, 5.0, 4.0, 3.0, 2.0, 1.0, 1.3918, 1.3909, 1.3894, 1.3885, 1.3867, 1.3865, 1.3837, 1.3826, 1.3804, 1.3801, 1.3779, 1.3752, 1.3741, 1.373, 1.3723, 1.3722, 1.3715, 1.3673, 1.3673, 1.3655, 1.3649, 1.3648, 1.364, 1.3627, 1.3622, 1.361, 1.3609, 1.3607, 1.3607, 1.3604, 1.3325, 1.3344, 1.2456, 1.2933, 1.3169, 1.2625, 1.2424, 1.2634, 1.1399, 1.2432, 1.1177, 1.3351, 0.8905, 0.853, 0.8266, 0.2826, 0.9362, 0.9387, 1.0213, 0.759, 0.6277, -0.3303, 1.003, 0.1631, 0.8578, 1.5971, 1.5931, 1.5929, 1.5928, 1.5924, 1.5914, 1.5911, 1.5905, 1.59, 1.5893, 1.5893, 1.5886, 1.5862, 1.5849, 1.5834, 1.5824, 1.5818, 1.5797, 1.579, 1.5777, 1.5769, 1.5753, 1.575, 1.5747, 1.5741, 1.5733, 1.5719, 1.5712, 1.5699, 1.5628, 1.5623, 1.4008, 1.4863, 1.4602, 1.3385, 1.3616, 1.4328, 1.4225, 1.395, 1.4885, 1.2119, 1.2581, 1.2672, 1.4223, 1.2141, 1.0817, 1.2525, 1.0949, 1.0411, 0.5507, 0.4985, 0.4303, 0.8119, -0.6291, -1.923, 1.6302, 1.6289, 1.6267, 1.6265, 1.6263, 1.6261, 1.6256, 1.6248, 1.6247, 1.6228, 1.6227, 1.6222, 1.6218, 1.6208, 1.6186, 1.6183, 1.617, 1.6167, 1.6165, 1.6147, 1.6141, 1.6117, 1.6114, 1.6101, 1.6092, 1.609, 1.6089, 1.6086, 1.607, 1.6057, 1.5253, 1.5765, 1.5123, 1.2568, 1.3944, 1.557, 1.2102, 1.0603, 1.378, 1.0188, -0.2136, 0.5483, 0.6873, 1.3638, 0.2276, -0.0312, 0.0842, 0.3487, 1.0365, 0.9192, 1.7593, 1.7581, 1.7562, 1.7547, 1.7545, 1.7525, 1.7508, 1.7499, 1.7499, 1.7497, 1.7496, 1.7453, 1.7435, 1.7431, 1.7415, 1.7409, 1.7387, 1.7385, 1.738, 1.7379, 1.7378, 1.7367, 1.7348, 1.734, 1.7313, 1.7291, 1.7268, 1.7264, 1.726, 1.7249, 1.7193, 1.7234, 1.644, 1.66, 1.6418, 1.6258, 1.5171, 1.5875, 1.4159, 1.3232, 1.0242, 1.5524, 1.4743, 1.394, 0.7962, 1.2434, 1.5869, 0.2748, 1.1745, 1.2842, -0.182, 0.5122, -0.1193, 0.6113, 0.9828, -0.6529, 0.4454, 2.3731, 2.3721, 2.3679, 2.3599, 2.3584, 2.3544, 2.3529, 2.3512, 2.351, 2.3509, 2.3499, 2.3495, 2.3491, 2.3491, 2.3475, 2.3445, 2.3444, 2.3437, 2.3436, 2.3383, 2.3376, 2.3365, 2.3352, 2.3351, 2.3342, 2.3341, 2.3339, 2.3338, 2.3338, 2.3334, 2.3274, 2.3156, 2.3202, 1.8141, 2.1644, 1.4731, 2.1434, 1.4877, 1.8609, 1.7445, 1.1948, 0.9412, 0.2644, -0.0705, 1.1666, -1.1845, -0.0001, 1.5239, 2.4144, 2.4138, 2.4137, 2.4126, 2.4094, 2.4082, 2.4077, 2.4044, 2.4007, 2.4007, 2.3997, 2.3967, 2.3966, 2.3955, 2.3914, 2.39, 2.3884, 2.3871, 2.3855, 2.3852, 2.3829, 2.3798, 2.3788, 2.3774, 2.3756, 2.3749, 2.3732, 2.3726, 2.3704, 2.3702, 2.3374, 2.3044, 2.2008, 2.1432, 2.1387, 1.8418, 1.4007, 1.6916, 0.4627, 1.5198, 0.7763, 2.0502, 0.7966, 1.0176, -0.2489]}, \"token.table\": {\"Topic\": [2, 3, 4, 5, 5, 5, 1, 5, 4, 3, 4, 2, 4, 1, 2, 3, 4, 2, 4, 2, 5, 4, 2, 1, 2, 5, 5, 4, 1, 2, 5, 5, 4, 5, 5, 3, 1, 2, 4, 6, 2, 4, 2, 2, 4, 4, 1, 4, 1, 6, 1, 2, 1, 5, 1, 4, 5, 6, 3, 4, 4, 5, 6, 3, 3, 1, 5, 4, 5, 1, 3, 2, 4, 2, 6, 1, 2, 4, 5, 2, 1, 1, 4, 6, 3, 4, 1, 4, 3, 5, 1, 2, 3, 4, 2, 3, 3, 4, 2, 1, 2, 3, 4, 5, 1, 2, 3, 5, 2, 5, 1, 3, 1, 1, 2, 4, 2, 1, 2, 4, 4, 1, 2, 3, 6, 1, 2, 3, 4, 1, 2, 3, 4, 6, 1, 3, 5, 1, 4, 5, 2, 2, 1, 2, 2, 4, 4, 6, 1, 3, 3, 3, 4, 6, 5, 5, 6, 6, 5, 5, 3, 3, 1, 5, 6, 1, 2, 4, 2, 4, 6, 1, 5, 1, 3, 4, 5, 4, 3, 5, 4, 1, 5, 1, 5, 1, 1, 2, 2, 6, 5, 6, 1, 2, 3, 4, 6, 6, 4, 6, 4, 1, 4, 2, 5, 5, 3, 4, 5, 5, 5, 5, 3, 4, 5, 6, 5, 5, 2, 1, 2, 3, 4, 5, 1, 2, 1, 2, 3, 4, 5, 6, 2, 3, 6, 1, 5, 1, 2, 3, 6, 5, 4, 1, 4, 2, 5, 6, 1, 2, 5, 3, 4, 3, 6, 1, 3, 4, 5, 6, 3, 2, 2, 4, 5, 6, 1, 1, 6, 6, 2, 3, 4, 5, 1, 4, 3, 4, 6, 1, 2, 3, 4, 5, 6, 1, 1, 1, 2, 3, 6, 6, 5, 1, 2, 3, 4, 5, 6, 2, 6, 2, 1, 2, 2, 3, 4, 6, 6, 2, 1, 3, 4, 6, 1, 2, 3, 5, 5, 6, 3, 2, 4, 5, 2, 3, 2, 5, 6, 1, 5, 4, 1, 2, 3, 6, 3, 3, 4, 6, 2, 5, 1, 2, 3, 4, 5, 2, 3, 2, 4, 4, 3, 3, 1, 3, 1, 2, 3, 4, 6, 5, 6, 2, 2, 3, 2, 4, 4, 3, 2, 4, 3, 6, 1, 4, 2, 4, 1, 5, 6, 2, 1, 3, 4, 1, 2, 3, 4, 6, 1, 2, 4, 3, 2, 4, 1, 2, 4, 1, 4, 2, 4, 1, 2, 3, 1, 3, 4, 4, 6, 3, 5, 3, 6, 1, 2, 3, 4, 5, 6, 4, 5, 4, 2, 4, 6, 1, 4, 5, 4, 1, 3, 6, 1, 2, 3, 4, 1, 2, 3, 4, 5, 6, 6, 4, 6, 1, 2, 4, 1, 3, 3, 6, 3, 6, 1, 4, 2, 1, 2, 3, 6, 6, 3, 3, 6, 1], \"Freq\": [0.29348830590997216, 0.3237003374007046, 0.2675922789179158, 0.11653212146425367, 0.9417157351745801, 0.9620848767462626, 0.9652160862875899, 0.9458815498944008, 0.9895426559132751, 0.9959345584181802, 0.0019760606317821036, 0.8173401476763378, 0.1808867539939436, 0.2024856992165435, 0.1921018172054387, 0.010383882011104795, 0.5918812746329734, 0.30759934263255023, 0.6890225274969125, 0.9940311145902557, 0.9388776948928402, 0.9841150948541115, 0.9826708372325691, 0.8788268620222989, 0.10772716373176566, 0.013229651686357187, 0.984362741884351, 0.950938981317204, 0.8634253305661269, 0.10774798574260099, 0.028468531350051764, 0.9582122947955146, 0.04336711341274465, 0.9540764950803822, 0.9900251036077404, 0.9840587177578669, 0.9689289452501069, 0.9816965220155947, 0.7491672382999521, 0.2497224127666507, 0.975994501708038, 0.9966478684105978, 0.9824899562796269, 0.15438557759463165, 0.8394715781708096, 0.9848212686657782, 0.2921579473959401, 0.7066145704459947, 0.9782207715539614, 0.9724799304439308, 0.17849942277321632, 0.8210973447567951, 0.9477589244579777, 0.05123021213286366, 0.4000957445130913, 0.45936918814466043, 0.014818360907892271, 0.1259560677170843, 0.7681536636764251, 0.22404481857229067, 0.9965361413280737, 0.9521886428337465, 0.9933177357838021, 0.9977415783964414, 0.9949060904874208, 0.7582963525710187, 0.23696761017844334, 0.046500528441083065, 0.9506774703510315, 0.9961682889572943, 0.9791173352780976, 0.9975342773619029, 0.9840544249376768, 0.9765407725983024, 0.9336704790857424, 0.9761935579893076, 0.9764598874525622, 0.04991888260557429, 0.9359790488545179, 0.9739166660569762, 0.9924612070686895, 0.9937723221875219, 0.988703359842459, 0.9755716490410584, 0.9005273596260485, 0.09890184874505735, 0.6782360227782787, 0.32095097506472114, 0.9438260027276216, 0.048818586347980426, 0.5684601047586427, 0.003620764998462692, 0.33914498818933886, 0.08931220329541308, 0.9779137528098689, 0.9811514111324624, 0.9934068518960625, 0.004434852017393136, 0.9976143592555513, 0.04050384487381351, 0.18733028254138748, 0.6556559888948562, 0.1139170637076005, 0.9441690899634109, 0.2867861439799195, 0.6799087233681237, 0.009666948673480433, 0.02255621357145434, 0.836008135663015, 0.15855326710850284, 0.9918518914926704, 0.00498418035925965, 0.9778405669711463, 0.9709471235814263, 0.11891025005838722, 0.872008500428173, 0.989108323171654, 0.24063133251032945, 0.6062058569010222, 0.15270834563155522, 0.9905755752146638, 0.22321844175702926, 0.19746246770814127, 0.017170649365925328, 0.5580461043925731, 0.00425901324377906, 0.20017362245761586, 0.7879174500991262, 0.9657477238690866, 0.9841692912538754, 0.3506738457387948, 0.005374311812088809, 0.6435738394976348, 0.9905420814902044, 0.0898438111186803, 0.11230476389835037, 0.7861333472884525, 0.39587742796997305, 0.16748660414114244, 0.42632953781381716, 0.9882737299845125, 0.9729561065928903, 0.966810937912931, 0.9895449212694627, 0.08966852903084661, 0.8966852903084661, 0.9867999692071435, 0.9820706764022238, 0.9414339047026968, 0.04926107640886204, 0.9936445749201357, 0.9885546391706541, 0.07168111463915917, 0.9258810640891394, 0.9321335832013282, 0.10304308358611362, 0.8930400577463181, 0.9892047325826616, 0.996929736124524, 0.9936779339745592, 0.9717930003091809, 0.9970130466816807, 0.860696497575533, 0.040219462503529584, 0.09652671000847099, 0.9919161069197273, 0.9916359391763325, 0.9862238465155861, 0.18708122696397975, 0.8078507527990034, 0.9822487772241865, 0.9432647145364284, 0.05603552759622346, 0.9987963062942394, 0.9238109585708546, 0.05329678607139546, 0.9909672135046492, 0.9739057815981899, 0.9925917537998704, 0.9764822270283416, 0.990158150204831, 0.9056313913399953, 0.09319162074474885, 0.6906140512527696, 0.3063207485395349, 0.9581976746469687, 0.9846814952871837, 0.9928742597801634, 0.9833972347199439, 0.9610909857647488, 0.9870511175590297, 0.9738714702106163, 0.7766630895876478, 0.0015548810602355313, 0.1896954893487348, 0.02332321590353297, 0.008551845831295422, 0.9766812090651024, 0.23557685255518976, 0.7656247708043667, 0.9711575169134632, 0.9968386391329219, 0.964192677139648, 0.3946850678506559, 0.5920276017759838, 0.9737963474906063, 0.2769491571258358, 0.1519373848120905, 0.5692843785364403, 0.9745392817086044, 0.9538751076743633, 0.9718986480109716, 0.16002405685028048, 0.3413846546139317, 0.09601443411016829, 0.4053942773540439, 0.949589153822709, 0.9768043158580861, 0.9486478070233498, 0.02003163247910874, 0.0688587366469363, 0.5658936175348219, 0.22535586538997335, 0.12144177190459673, 0.8602725438534709, 0.1379062856558999, 0.6357960182368534, 0.06433650184539588, 0.12110400347368637, 0.09082800260526477, 0.007569000217105398, 0.08325900238815938, 0.9717424951394906, 0.29500068100822163, 0.6972743369285239, 0.9753483228971266, 0.01806200597957642, 0.28455416474238066, 0.7046103126954189, 0.9902949599010843, 0.9732783891972724, 0.9481055972041145, 0.9933605505875361, 0.9906836632219693, 0.9827076799618542, 0.7718132056982782, 0.0865584903586854, 0.14137886758585283, 0.19183076592466608, 0.7889813759804815, 0.015470223058440815, 0.0405805802869169, 0.9577016947712388, 0.0019054464239434616, 0.9965484797224304, 0.46536628494401977, 0.38966076490527973, 0.07347888709642417, 0.002226632942315884, 0.0690256212117924, 0.9757690110139452, 0.9930291727414715, 0.6792229913604056, 0.3138478649734288, 0.9605315464912237, 0.9710449904352926, 0.9860599323275357, 0.9809060995474278, 0.017798699386949293, 0.9715130483440653, 0.001998439031217757, 0.2128337568246911, 0.3797034159313738, 0.40468390382159575, 0.10870610002209656, 0.8894135456353355, 0.990776383347008, 0.9708182239256524, 0.9850414518041873, 0.180793221076068, 0.031718108960713684, 0.006343621792142737, 0.7802654804335566, 0.9788800703855879, 0.9523466534514733, 0.9606574562807743, 0.9537910089903233, 0.6053783885881707, 0.3333412646023472, 0.061304140616523624, 0.929828343695666, 0.9842698177804046, 0.9752657705871708, 0.32964765416297526, 0.02953259855697357, 0.15819894686465302, 0.4773106469478431, 0.004310163032639386, 0.0011174496751287296, 0.19333488369535698, 0.8095898254743074, 0.9982554259849308, 0.09075018426047665, 0.8923768118946871, 0.9952142149561654, 0.2453226280886884, 0.264193599480126, 0.48120977048165803, 0.9474825293471193, 0.9886973897535224, 0.3203299009926599, 0.49235892189612546, 0.06525238723924554, 0.12457273927492331, 0.25331403211578074, 0.029801650837150674, 0.19371073044147938, 0.5364297150687122, 0.23087951888400685, 0.7636784086163303, 0.9868483452382303, 0.21947320115260766, 0.47958958770384635, 0.30075957194986974, 0.3108621597115629, 0.6885111115486569, 0.023318822015352573, 0.81615877053734, 0.163231754107468, 0.9993527999306623, 0.9485767947736468, 0.9860441932772376, 0.33567004197199574, 0.5955436228535409, 0.02165613174012876, 0.04331226348025752, 0.9997749999198166, 0.7757863948254283, 0.023043160242339454, 0.1920263353528288, 0.9995631827801381, 0.9889083678599473, 0.04830762463174545, 0.71924685562821, 0.11808530465537777, 0.0644101661756606, 0.04830762463174545, 0.45629882152601314, 0.5412648089825811, 0.9892209702732279, 0.9882201869282344, 0.990267771619292, 0.9959992637269103, 0.9960692559254679, 0.9885466311929761, 0.99658723733275, 0.2740863972029829, 0.1847103981150537, 0.31579519677734985, 0.0297919996959764, 0.19662719799344425, 0.9727896043410132, 0.9773521497852629, 0.9545426028654824, 0.014171972467051467, 0.9778661002265512, 0.11152518913192914, 0.8861183209209643, 0.9558773738889231, 0.9925573765743766, 0.9887582286445039, 0.9836404333903094, 0.9984467482062535, 0.9956591735054054, 0.026998011798779496, 0.9719284247560618, 0.37314155406168903, 0.6183488610165132, 0.9971510128387666, 0.9734555106631939, 0.9621130393131424, 0.9726622567792435, 0.22236016931193045, 0.22236016931193045, 0.5517826423666422, 0.33943465387843996, 0.08065773953547088, 0.1008221744193386, 0.2856628275214594, 0.19492287054405463, 0.0034613570052858013, 0.8930301073637368, 0.10037935315328823, 0.9824680300208437, 0.8728292533163697, 0.12558694292321868, 0.2591542671320428, 0.5710178767316197, 0.16691291781385806, 0.9854378659655202, 0.9566754998439256, 0.8461608810927779, 0.1505879534148164, 0.9731512081947415, 0.9951765646032105, 0.9968055404335631, 0.11514481639831274, 0.5554044085095085, 0.3318880002069014, 0.9820875323556338, 0.9965947433305996, 0.9804359316883103, 0.9678320670743117, 0.9890658185768367, 0.940309254712117, 0.583044218684983, 0.013909603626679517, 0.24573633073800477, 0.14257343717346505, 0.012750469991122889, 0.0011591336355566263, 0.846354169288268, 0.14719202944143792, 0.9724346758540152, 0.8343858118961486, 0.1557520182206144, 0.981717932688282, 0.4829911542240586, 0.10548082678456451, 0.41082006221356704, 0.9906942889237973, 0.5300428488873984, 0.1049043138422976, 0.3616438187721312, 0.8799064506300093, 0.04577548009057852, 0.07120630236312214, 0.005086164454508724, 0.633728166634827, 0.011118038011137317, 0.22977278556350453, 0.09635632942985674, 0.022236076022274634, 0.0037060126703791054, 0.9954793852921515, 0.9699266481490302, 0.01259644997596143, 0.11676557949268528, 0.7103239419138354, 0.17028313676016602, 0.9285021554352918, 0.06515804599545907, 0.9906860380065249, 0.9982289051227409, 0.8924217364721563, 0.10297173882371034, 0.9914802223181797, 0.9724962734251069, 0.9789678150807702, 0.5881153743033428, 0.2780181769433984, 0.10158356465239557, 0.037425523819303634, 0.9894183535082804, 0.9797333785907038, 0.9865469066204666, 0.9754118711639413, 0.9717575749753362], \"Term\": [\"..\", \"..\", \"..\", \"..\", \"..it\", \".and\", \".but\", \".it\", \"accessory\", \"amazon\", \"amazon\", \"android\", \"android\", \"app\", \"app\", \"app\", \"app\", \"apps\", \"apps\", \"atmos\", \"atom\", \"auto\", \"awesome\", \"backup\", \"backup\", \"backup\", \"bahut\", \"batter\", \"battery\", \"battery\", \"battery\", \"bed\", \"bekar\", \"bekar\", \"bhi\", \"bill\", \"blur\", \"bokeh\", \"box\", \"box\", \"brightness\", \"budget\", \"build\", \"button\", \"button\", \"cable\", \"call\", \"call\", \"caller\", \"camara\", \"camera\", \"camera\", \"capacity\", \"capacity\", \"card\", \"card\", \"card\", \"card\", \"care\", \"care\", \"cast\", \"category\", \"cell\", \"center\", \"centre\", \"charge\", \"charge\", \"charger\", \"charger\", \"charging\", \"choice\", \"clarity\", \"class\", \"color\", \"comment\", \"comparison\", \"concern\", \"condition\", \"condition\", \"configuration\", \"connection\", \"connectivity\", \"contact\", \"crack\", \"customer\", \"customer\", \"data\", \"data\", \"date\", \"date\", \"day\", \"day\", \"day\", \"day\", \"default\", \"defect\", \"delivery\", \"delivery\", \"depth\", \"device\", \"device\", \"device\", \"device\", \"din\", \"display\", \"display\", \"display\", \"display\", \"dolby\", \"dolby\", \"drain\", \"drain\", \"draining\", \"drawback\", \"earphone\", \"earphone\", \"effect\", \"everything\", \"everything\", \"everything\", \"excellent\", \"expectation\", \"expectation\", \"expectation\", \"expectation\", \"experience\", \"experience\", \"experience\", \"fall\", \"fast\", \"feature\", \"feature\", \"feature\", \"file\", \"finger\", \"finger\", \"finger\", \"fingerprint\", \"fingerprint\", \"fingerprint\", \"flash\", \"focus\", \"fone\", \"front\", \"function\", \"function\", \"functionality\", \"future\", \"game\", \"game\", \"gaming\", \"gb\", \"glass\", \"glass\", \"gold\", \"gorilla\", \"gorilla\", \"gud\", \"h\", \"hai\", \"half\", \"handset\", \"hang\", \"hang\", \"hang\", \"hanging\", \"hd\", \"head\", \"headphone\", \"headphone\", \"headset\", \"heat\", \"heat\", \"heating\", \"hi\", \"hi\", \"ho\", \"home\", \"hope\", \"hota\", \"hotspot\", \"hour\", \"hour\", \"hr\", \"hr\", \"i.e\", \"idea\", \"image\", \"improvement\", \"information\", \"invoice\", \"iron\", \"issue\", \"issue\", \"issue\", \"issue\", \"issue\", \"it..\", \"item\", \"item\", \"jack\", \"jio\", \"job\", \"k4\", \"k4\", \"k5\", \"k8\", \"k8\", \"k8\", \"kar\", \"ke\", \"ki\", \"killer\", \"killer\", \"killer\", \"killer\", \"kiya\", \"ko\", \"lenova\", \"lenovo\", \"lenovo\", \"lenovo\", \"lenovo\", \"lenovo\", \"life\", \"life\", \"lot\", \"lot\", \"lot\", \"lot\", \"lot\", \"lot\", \"lover\", \"lte\", \"lte\", \"mah\", \"mah\", \"mark\", \"mark\", \"market\", \"medium\", \"mera\", \"message\", \"min\", \"mind\", \"mobile\", \"mobile\", \"mobile\", \"mode\", \"mode\", \"mode\", \"model\", \"model\", \"money\", \"money\", \"month\", \"month\", \"month\", \"month\", \"month\", \"motorola\", \"mp\", \"music\", \"music\", \"nahi\", \"nd\", \"net\", \"network\", \"network\", \"nice\", \"note\", \"note\", \"note\", \"note\", \"notification\", \"notification\", \"offer\", \"office\", \"ok\", \"option\", \"option\", \"option\", \"option\", \"par\", \"pc\", \"percent\", \"percentage\", \"performance\", \"performance\", \"performance\", \"performance..\", \"ph\", \"phn\", \"phone\", \"phone\", \"phone\", \"phone\", \"phone\", \"phone\", \"phone..\", \"phone..\", \"photo\", \"pic\", \"pic\", \"picture\", \"piece\", \"piece\", \"piece\", \"pin\", \"player\", \"please\", \"please\", \"please\", \"please\", \"pls\", \"pls\", \"pls\", \"pls\", \"plz\", \"plz\", \"policy\", \"power\", \"power\", \"power\", \"price\", \"price\", \"print\", \"print\", \"print\", \"problem\", \"processer\", \"processing\", \"processor\", \"processor\", \"processor\", \"processor\", \"product\", \"purchase\", \"purchase\", \"purchase\", \"quality\", \"raha\", \"ram\", \"ram\", \"ram\", \"ram\", \"ram\", \"range\", \"range\", \"rear\", \"recorder\", \"recording\", \"refund\", \"replacement\", \"resolution\", \"return\", \"review\", \"review\", \"review\", \"review\", \"review\", \"rha\", \"ringtone\", \"rom\", \"sale\", \"sale\", \"screen\", \"screen\", \"second\", \"segment\", \"selfie\", \"seller\", \"service\", \"set\", \"setting\", \"setting\", \"side\", \"side\", \"sim\", \"sir\", \"site\", \"size\", \"smartphone\", \"smartphone\", \"smartphone\", \"software\", \"software\", \"software\", \"software\", \"software\", \"sound\", \"sound\", \"sound\", \"space\", \"speaker\", \"speaker\", \"speed\", \"speed\", \"speed\", \"standby\", \"start\", \"stock\", \"stock\", \"suggestion\", \"super\", \"superb\", \"support\", \"support\", \"support\", \"switch\", \"system\", \"team\", \"tha\", \"thanks\", \"thik\", \"time\", \"time\", \"time\", \"time\", \"time\", \"time\", \"today\", \"today\", \"top\", \"touch\", \"touch\", \"tray\", \"turbo\", \"turbo\", \"turbo\", \"tv\", \"update\", \"update\", \"update\", \"usage\", \"usage\", \"usage\", \"usage\", \"use\", \"use\", \"use\", \"use\", \"use\", \"use\", \"value\", \"version\", \"version\", \"video\", \"video\", \"video\", \"volta\", \"volta\", \"warranty\", \"waste\", \"week\", \"week\", \"weight\", \"whatsapp\", \"wise\", \"work\", \"work\", \"work\", \"work\", \"worth\", \"ye\", \"year\", \"yesterday\", \"zoom\"]}, \"R\": 30, \"lambda.step\": 0.01, \"plot.opts\": {\"xlab\": \"PC1\", \"ylab\": \"PC2\"}, \"topic.order\": [1, 2, 6, 4, 3, 5]};\n",
              "\n",
              "function LDAvis_load_lib(url, callback){\n",
              "  var s = document.createElement('script');\n",
              "  s.src = url;\n",
              "  s.async = true;\n",
              "  s.onreadystatechange = s.onload = callback;\n",
              "  s.onerror = function(){console.warn(\"failed to load library \" + url);};\n",
              "  document.getElementsByTagName(\"head\")[0].appendChild(s);\n",
              "}\n",
              "\n",
              "if(typeof(LDAvis) !== \"undefined\"){\n",
              "   // already loaded: just create the visualization\n",
              "   !function(LDAvis){\n",
              "       new LDAvis(\"#\" + \"ldavis_el581399995423013447366715206\", ldavis_el581399995423013447366715206_data);\n",
              "   }(LDAvis);\n",
              "}else if(typeof define === \"function\" && define.amd){\n",
              "   // require.js is available: use it to load d3/LDAvis\n",
              "   require.config({paths: {d3: \"https://cdnjs.cloudflare.com/ajax/libs/d3/3.5.5/d3.min\"}});\n",
              "   require([\"d3\"], function(d3){\n",
              "      window.d3 = d3;\n",
              "      LDAvis_load_lib(\"https://cdn.rawgit.com/bmabey/pyLDAvis/files/ldavis.v1.0.0.js\", function(){\n",
              "        new LDAvis(\"#\" + \"ldavis_el581399995423013447366715206\", ldavis_el581399995423013447366715206_data);\n",
              "      });\n",
              "    });\n",
              "}else{\n",
              "    // require.js not available: dynamically load d3 & LDAvis\n",
              "    LDAvis_load_lib(\"https://cdnjs.cloudflare.com/ajax/libs/d3/3.5.5/d3.min.js\", function(){\n",
              "         LDAvis_load_lib(\"https://cdn.rawgit.com/bmabey/pyLDAvis/files/ldavis.v1.0.0.js\", function(){\n",
              "                 new LDAvis(\"#\" + \"ldavis_el581399995423013447366715206\", ldavis_el581399995423013447366715206_data);\n",
              "            })\n",
              "         });\n",
              "}\n",
              "</script>"
            ],
            "text/plain": [
              "PreparedData(topic_coordinates=              x         y  topics  cluster       Freq\n",
              "topic                                                \n",
              "0     -0.190097 -0.047774       1        1  24.849494\n",
              "1     -0.034105 -0.275062       2        1  20.233225\n",
              "5     -0.108968  0.197707       3        1  19.581987\n",
              "3     -0.108755  0.062166       4        1  17.139001\n",
              "2      0.182128  0.083895       5        1   9.281431\n",
              "4      0.259796 -0.020931       6        1   8.914862, topic_info=         Term         Freq        Total Category  logprob  loglift\n",
              "17      phone  6264.000000  6264.000000  Default  30.0000  30.0000\n",
              "52    product  1997.000000  1997.000000  Default  29.0000  29.0000\n",
              "60     camera  2829.000000  2829.000000  Default  28.0000  28.0000\n",
              "4     battery  2774.000000  2774.000000  Default  27.0000  27.0000\n",
              "104   quality  1209.000000  1209.000000  Default  26.0000  26.0000\n",
              "..        ...          ...          ...      ...      ...      ...\n",
              "398  software    57.654482   297.553590   Topic6  -4.9022   0.7763\n",
              "414       lte    25.826897    37.288050   Topic6  -5.7053   2.0502\n",
              "717    review    33.185017   167.830292   Topic6  -5.4546   0.7966\n",
              "499       box    31.604033   128.142283   Topic6  -5.5034   1.0176\n",
              "36      month    31.216549   449.108598   Topic6  -5.5157  -0.2489\n",
              "\n",
              "[340 rows x 6 columns], token_table=      Topic      Freq       Term\n",
              "term                            \n",
              "45        2  0.293488         ..\n",
              "45        3  0.323700         ..\n",
              "45        4  0.267592         ..\n",
              "45        5  0.116532         ..\n",
              "2559      5  0.941716       ..it\n",
              "...     ...       ...        ...\n",
              "493       6  0.989418      worth\n",
              "358       3  0.979733         ye\n",
              "29        3  0.986547       year\n",
              "1300      6  0.975412  yesterday\n",
              "2476      1  0.971758       zoom\n",
              "\n",
              "[468 rows x 3 columns], R=30, lambda_step=0.01, plot_opts={'xlab': 'PC1', 'ylab': 'PC2'}, topic_order=[1, 2, 6, 4, 3, 5])"
            ]
          },
          "metadata": {
            "tags": []
          },
          "execution_count": 31
        }
      ]
    },
    {
      "cell_type": "markdown",
      "metadata": {
        "id": "EvaVSs1DbOc1"
      },
      "source": [
        "### **Identifying the number of topics**"
      ]
    },
    {
      "cell_type": "code",
      "metadata": {
        "id": "il6q5Jkyd0yY"
      },
      "source": [
        "import warnings"
      ],
      "execution_count": null,
      "outputs": []
    },
    {
      "cell_type": "code",
      "metadata": {
        "id": "DB5MCpe_d7tr"
      },
      "source": [
        "#help(warnings)"
      ],
      "execution_count": null,
      "outputs": []
    },
    {
      "cell_type": "code",
      "metadata": {
        "id": "qpYwN5HFdnxs"
      },
      "source": [
        "warnings.filterwarnings(\"ignore\", category=DeprecationWarning)"
      ],
      "execution_count": null,
      "outputs": []
    },
    {
      "cell_type": "code",
      "metadata": {
        "colab": {
          "base_uri": "https://localhost:8080/"
        },
        "id": "lrhyqGNQbUkk",
        "outputId": "d06ce94e-b5be-49ec-e57e-b1f2b63700ec"
      },
      "source": [
        "  maxv = 0\r\n",
        "  maxnt = 0\r\n",
        "  for nt in range(2,15):\r\n",
        "      lda_model = gensim.models.ldamodel.LdaModel(corpus=corpus,\r\n",
        "                                               id2word=id2word,\r\n",
        "                                               num_topics=nt, \r\n",
        "                                               random_state=10,\r\n",
        "                                               passes=10,\r\n",
        "                                               per_word_topics=True)\r\n",
        "      coherence_model_lda = CoherenceModel(model=lda_model, texts=clean_reviews, dictionary=id2word, coherence='c_v')\r\n",
        "      coherence_lda = coherence_model_lda.get_coherence()\r\n",
        "      print ('Coherence Score:{} No of topics {} '.format(coherence_lda, nt))\r\n",
        "      if coherence_lda > maxv:\r\n",
        "          maxv = coherence_lda\r\n",
        "          maxnt = nt"
      ],
      "execution_count": null,
      "outputs": [
        {
          "output_type": "stream",
          "text": [
            "Coherence Score:0.5576666067223379 No of topics 2 \n",
            "Coherence Score:0.5359796074845172 No of topics 3 \n",
            "Coherence Score:0.5891746691833799 No of topics 4 \n",
            "Coherence Score:0.6015852200196715 No of topics 5 \n",
            "Coherence Score:0.6084053819953116 No of topics 6 \n",
            "Coherence Score:0.5730166818343596 No of topics 7 \n",
            "Coherence Score:0.582320336700372 No of topics 8 \n",
            "Coherence Score:0.5630008379916224 No of topics 9 \n",
            "Coherence Score:0.5105654775270944 No of topics 10 \n",
            "Coherence Score:0.5503078402216407 No of topics 11 \n",
            "Coherence Score:0.5391101181728113 No of topics 12 \n",
            "Coherence Score:0.5311722708185711 No of topics 13 \n",
            "Coherence Score:0.5196791107425602 No of topics 14 \n"
          ],
          "name": "stdout"
        }
      ]
    },
    {
      "cell_type": "markdown",
      "metadata": {
        "id": "aiyYgxGPfr2R"
      },
      "source": [
        "**Number of topics**.\\\r\n",
        "The number of topics with Maximum coherence score is 6"
      ]
    },
    {
      "cell_type": "markdown",
      "metadata": {
        "id": "_P4qvrD5oAG_"
      },
      "source": [
        "### Interpreting the topics"
      ]
    },
    {
      "cell_type": "markdown",
      "metadata": {
        "id": "wKqNlNHKJQ3J"
      },
      "source": [
        "Topic 0 is a represented as 0.11 \"battery\" + 0.09 \"phone\" + 0.051 \"backup\" + 0.050\"camera\" + 0.038\"day\" + 0.037\"hour\" + 0.033\"issue\" + 0.030\"life\" + '\r\n",
        "  '0.024*\"performance\" + 0.024*\"time.\r\n",
        "It means the top 10 keywords that contribute to this topic are: ‘car’, ‘power’, ‘light’.. and so on and the weight of ‘car’ on topic 0 is 0.016.The weights reflect how important a keyword is to that topic"
      ]
    },
    {
      "cell_type": "markdown",
      "metadata": {
        "id": "LJb5ljSEhUSw"
      },
      "source": [
        "### **Topics Choosen**\r\n",
        "#### Topic 1 -'Mobile issues', \r\n",
        "#### Topic 2 -'Battery Performance', \r\n",
        "#### Topic 3 -'Features and Details' , \r\n",
        "#### Topic 4 -'Phone Performance', \r\n",
        "#### Topic 5 -'Amazon Services' , \r\n",
        "#### Topic 6 -'Value For Money'"
      ]
    },
    {
      "cell_type": "markdown",
      "metadata": {
        "id": "HqjFvUm2XBk3"
      },
      "source": [
        "### **Conclusion**\r\n",
        "POS Tagging , topic modelling using LDA and topic interpretation has been successfully completed and solved the business problem of understanding the customer concerns."
      ]
    }
  ]
}